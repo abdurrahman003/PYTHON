{
  "nbformat": 4,
  "nbformat_minor": 0,
  "metadata": {
    "colab": {
      "name": "dataframes/pandas.ipynb",
      "provenance": [],
      "collapsed_sections": []
    },
    "kernelspec": {
      "name": "python3",
      "display_name": "Python 3"
    },
    "language_info": {
      "name": "python"
    }
  },
  "cells": [
    {
      "cell_type": "code",
      "metadata": {
        "colab": {
          "base_uri": "https://localhost:8080/"
        },
        "id": "xW80UeEBAKzn",
        "outputId": "444268da-cefa-42ed-8f20-af789d3c019f"
      },
      "source": [
        "import pandas as pd\n",
        "data1 = [10,20,30,40,50]\n",
        "df = pd.DataFrame(data1)\n",
        "print (df)"
      ],
      "execution_count": null,
      "outputs": [
        {
          "output_type": "stream",
          "name": "stdout",
          "text": [
            "    0\n",
            "0  10\n",
            "1  20\n",
            "2  30\n",
            "3  40\n",
            "4  50\n"
          ]
        }
      ]
    },
    {
      "cell_type": "code",
      "metadata": {
        "colab": {
          "base_uri": "https://localhost:8080/"
        },
        "id": "czhkisbyCysa",
        "outputId": "04dc0be2-9492-4bb7-c3eb-17bc0204d809"
      },
      "source": [
        "import pandas as pd\n",
        "data2 = [['Abdur',20],['Hash',12],['Clain',13]]\n",
        "df = pd.DataFrame(data2,columns=['Name','Age'])\n",
        "print (df)"
      ],
      "execution_count": null,
      "outputs": [
        {
          "output_type": "stream",
          "name": "stdout",
          "text": [
            "    Name  Age\n",
            "0  Abdur   20\n",
            "1   Hash   12\n",
            "2  Clain   13\n"
          ]
        }
      ]
    },
    {
      "cell_type": "code",
      "metadata": {
        "colab": {
          "base_uri": "https://localhost:8080/"
        },
        "id": "r9f17VrBCypZ",
        "outputId": "5287abea-d129-4f81-9d85-8926bc99497d"
      },
      "source": [
        "import pandas as pd\n",
        "data = {'Name':['Abdur', 'Jackshere', 'Stephen'],'Age':[28,34,29]}\n",
        "df = pd.DataFrame(data)\n",
        "print (df)"
      ],
      "execution_count": null,
      "outputs": [
        {
          "output_type": "stream",
          "name": "stdout",
          "text": [
            "        Name  Age\n",
            "0      Abdur   28\n",
            "1  Jackshere   34\n",
            "2    Stephen   29\n"
          ]
        }
      ]
    },
    {
      "cell_type": "code",
      "metadata": {
        "colab": {
          "base_uri": "https://localhost:8080/"
        },
        "id": "j57Tm19uCylv",
        "outputId": "2c63f6e1-3c7f-44c6-e7ae-2fd08e994fdb"
      },
      "source": [
        "import pandas as pd\n",
        "data = {'Name':['Abdur', 'Jackshere', 'Stephen', 'Ricky'],'Age':[18,24,19,62]}\n",
        "df = pd.DataFrame(data, index=['rank1','rank2','rank3','rank4'])\n",
        "print (df)"
      ],
      "execution_count": null,
      "outputs": [
        {
          "output_type": "stream",
          "name": "stdout",
          "text": [
            "            Name  Age\n",
            "rank1      Abdur   18\n",
            "rank2  Jackshere   24\n",
            "rank3    Stephen   19\n",
            "rank4      Ricky   62\n"
          ]
        }
      ]
    },
    {
      "cell_type": "code",
      "metadata": {
        "colab": {
          "base_uri": "https://localhost:8080/"
        },
        "id": "fl8DRT1NCyhC",
        "outputId": "c0388d2d-abed-42f0-b0cd-977c91579a25"
      },
      "source": [
        "import pandas as pd\n",
        "data = [{'list1': 1, 'list2': 2},{'list1': 5, 'list2': 10, 'list3': 20}]\n",
        "df = pd.DataFrame(data)\n",
        "print (df)"
      ],
      "execution_count": null,
      "outputs": [
        {
          "output_type": "stream",
          "name": "stdout",
          "text": [
            "   list1  list2  list3\n",
            "0      1      2    NaN\n",
            "1      5     10   20.0\n"
          ]
        }
      ]
    },
    {
      "cell_type": "code",
      "metadata": {
        "colab": {
          "base_uri": "https://localhost:8080/"
        },
        "id": "mXHs4WLwCydb",
        "outputId": "94052698-3447-424b-ec6f-e52efe694857"
      },
      "source": [
        "import pandas as pd\n",
        "data = [{'a': 1, 'b': 2},{'a': 5, 'b': 10, 'c': 20}]\n",
        "\n",
        "#With two column indices, values same as dictionary keys\n",
        "df1 = pd.DataFrame(data, index=['first', 'second'], columns=['a', 'b'])\n",
        "\n",
        "#With two column indices with one index with other name\n",
        "df2 = pd.DataFrame(data, index=['first', 'second'], columns=['a', 'b1'])\n",
        "print (df1)\n",
        "print (df2)"
      ],
      "execution_count": null,
      "outputs": [
        {
          "output_type": "stream",
          "name": "stdout",
          "text": [
            "        a   b\n",
            "first   1   2\n",
            "second  5  10\n",
            "        a  b1\n",
            "first   1 NaN\n",
            "second  5 NaN\n"
          ]
        }
      ]
    },
    {
      "cell_type": "code",
      "metadata": {
        "colab": {
          "base_uri": "https://localhost:8080/"
        },
        "id": "SRd9GyxbCyZn",
        "outputId": "52686bf6-7b39-46c9-f684-cbb28504d951"
      },
      "source": [
        "import pandas as pd\n",
        "\n",
        "d = {'one' : pd.Series([1, 2, 3], index=['a', 'b', 'c']),\n",
        "   'two' : pd.Series([1, 2, 3, 4], index=['a', 'b', 'c', 'd'])}\n",
        "\n",
        "df = pd.DataFrame(d)\n",
        "print (df)"
      ],
      "execution_count": null,
      "outputs": [
        {
          "output_type": "stream",
          "name": "stdout",
          "text": [
            "   one  two\n",
            "a  1.0    1\n",
            "b  2.0    2\n",
            "c  3.0    3\n",
            "d  NaN    4\n"
          ]
        }
      ]
    },
    {
      "cell_type": "code",
      "metadata": {
        "colab": {
          "base_uri": "https://localhost:8080/"
        },
        "id": "K1uxwbhDCyV5",
        "outputId": "73f46280-2333-44fa-91f0-5c27987d81aa"
      },
      "source": [
        "#column selection\n",
        "\n",
        "import pandas as pd\n",
        "\n",
        "d = {'one' : pd.Series([1, 2, 3], index=['a', 'b', 'c']),\n",
        "   'two' : pd.Series([11, 22, 33, 44], index=['a', 'b', 'c', 'd'])}\n",
        "\n",
        "df = pd.DataFrame(d)\n",
        "print (df['two'])"
      ],
      "execution_count": null,
      "outputs": [
        {
          "output_type": "stream",
          "name": "stdout",
          "text": [
            "a    11\n",
            "b    22\n",
            "c    33\n",
            "d    44\n",
            "Name: two, dtype: int64\n"
          ]
        }
      ]
    },
    {
      "cell_type": "code",
      "metadata": {
        "colab": {
          "base_uri": "https://localhost:8080/"
        },
        "id": "pbpUwzmMCySa",
        "outputId": "0d9b1e6b-a2fe-40f3-b737-d3b46c01246f"
      },
      "source": [
        "#column selection\n",
        "#presence of NAN will convert int to float\n",
        "\n",
        "import pandas as pd\n",
        "\n",
        "data = {'one' : pd.Series([11, 22, 33,44], index=['a', 'b', 'c','d']),\n",
        "   'two' : pd.Series([1, 2, 3, 4], index=['a', 'b', 'c', 'd'])}\n",
        "\n",
        "\n",
        "df = pd.DataFrame(data)\n",
        "print (df['one'])"
      ],
      "execution_count": null,
      "outputs": [
        {
          "output_type": "stream",
          "name": "stdout",
          "text": [
            "a    11\n",
            "b    22\n",
            "c    33\n",
            "d    44\n",
            "Name: one, dtype: int64\n"
          ]
        }
      ]
    },
    {
      "cell_type": "code",
      "metadata": {
        "colab": {
          "base_uri": "https://localhost:8080/"
        },
        "id": "MOnulprGCyOJ",
        "outputId": "4f0bdaf8-9546-433e-d8fd-a5b18de7d4b5"
      },
      "source": [
        "# Adding a new column to an existing DataFrame object with column label by passing new series\n",
        "\n",
        "import pandas as pd\n",
        "\n",
        "d = {'one' : pd.Series([1, 2, 3], index=['a', 'b', 'c']),\n",
        "   'two' : pd.Series([1, 2, 3, 4], index=['a', 'b', 'c', 'd'])}\n",
        "\n",
        "df = pd.DataFrame(d)\n",
        "\n",
        "print (df)\n",
        "\n",
        "print (\"Adding a new column by passing as Series:\")\n",
        "df['three']=pd.Series([10,20,30],index=['a','b','c'])\n",
        "print (df)\n",
        "\n",
        "print (\"Adding a new column using the existing columns in DataFrame:\")\n",
        "df['four']=df['two']+df['three']\n",
        "\n",
        "print (df)"
      ],
      "execution_count": null,
      "outputs": [
        {
          "output_type": "stream",
          "name": "stdout",
          "text": [
            "   one  two\n",
            "a  1.0    1\n",
            "b  2.0    2\n",
            "c  3.0    3\n",
            "d  NaN    4\n",
            "Adding a new column by passing as Series:\n",
            "   one  two  three\n",
            "a  1.0    1   10.0\n",
            "b  2.0    2   20.0\n",
            "c  3.0    3   30.0\n",
            "d  NaN    4    NaN\n",
            "Adding a new column using the existing columns in DataFrame:\n",
            "   one  two  three  four\n",
            "a  1.0    1   10.0  11.0\n",
            "b  2.0    2   20.0  22.0\n",
            "c  3.0    3   30.0  33.0\n",
            "d  NaN    4    NaN   NaN\n"
          ]
        }
      ]
    },
    {
      "cell_type": "code",
      "metadata": {
        "colab": {
          "base_uri": "https://localhost:8080/"
        },
        "id": "b2ZW2gncCyI6",
        "outputId": "c2444361-7031-4ad0-e465-5491819cae48"
      },
      "source": [
        "# Using the previous DataFrame, we will delete a column\n",
        "# using del function\n",
        "import pandas as pd\n",
        "\n",
        "d = {'one' : pd.Series([1, 2, 3], index=['a', 'b', 'c']), \n",
        "   'two' : pd.Series([1, 2, 3, 4], index=['a', 'b', 'c', 'd']), \n",
        "   'three' : pd.Series([10,20,30], index=['a','b','c'])}\n",
        "\n",
        "df = pd.DataFrame(d)\n",
        "print (\"Our dataframe is:\")\n",
        "print (df)\n",
        "\n",
        "# using del function\n",
        "print (\"Deleting the first column using DEL function:\")\n",
        "del df['one']\n",
        "print (df)\n",
        "# using pop function\n",
        "print (\"Deleting another column using POP function:\")\n",
        "df.pop('three')\n",
        "print (df)"
      ],
      "execution_count": null,
      "outputs": [
        {
          "output_type": "stream",
          "name": "stdout",
          "text": [
            "Our dataframe is:\n",
            "   one  two  three\n",
            "a  1.0    1   10.0\n",
            "b  2.0    2   20.0\n",
            "c  3.0    3   30.0\n",
            "d  NaN    4    NaN\n",
            "Deleting the first column using DEL function:\n",
            "   two  three\n",
            "a    1   10.0\n",
            "b    2   20.0\n",
            "c    3   30.0\n",
            "d    4    NaN\n",
            "Deleting another column using POP function:\n",
            "   two\n",
            "a    1\n",
            "b    2\n",
            "c    3\n",
            "d    4\n"
          ]
        }
      ]
    },
    {
      "cell_type": "code",
      "metadata": {
        "id": "ksL4TjjAMk4n"
      },
      "source": [
        "#Selection by Label\n",
        "\n",
        "import pandas as pd\n",
        "\n",
        "d = {'one' : pd.Series([1, 2, 3], index=['a', 'b', 'c']), \n",
        "   'two' : pd.Series([1, 2, 3, 4], index=['a', 'b', 'c', 'd'])}\n",
        "\n",
        "df = pd.DataFrame(d)\n",
        "print (df.loc['b'])"
      ],
      "execution_count": null,
      "outputs": []
    },
    {
      "cell_type": "code",
      "metadata": {
        "colab": {
          "base_uri": "https://localhost:8080/"
        },
        "id": "N_I-OU2eMk1k",
        "outputId": "56a3847b-8b41-4591-b6a9-febce06cfa88"
      },
      "source": [
        "#Selection by integer location\n",
        "\n",
        "import pandas as pd\n",
        "\n",
        "d = {'one' : pd.Series([1, 2, 3,4], index=['a', 'b', 'c','d']),\n",
        "   'two' : pd.Series([1, 2, 3, 4,5], index=['a', 'b', 'c', 'd','e'])}\n",
        "\n",
        "df = pd.DataFrame(d)\n",
        "print (df.iloc[4])"
      ],
      "execution_count": null,
      "outputs": [
        {
          "output_type": "stream",
          "name": "stdout",
          "text": [
            "one    NaN\n",
            "two    5.0\n",
            "Name: e, dtype: float64\n"
          ]
        }
      ]
    },
    {
      "cell_type": "code",
      "metadata": {
        "colab": {
          "base_uri": "https://localhost:8080/"
        },
        "id": "gJSpuB_DMk0P",
        "outputId": "7e3c20dc-86ef-4801-cc15-db10b5dfe9c4"
      },
      "source": [
        "#Slice Rows using : operator\n",
        "\n",
        "import pandas as pd\n",
        "\n",
        "d = {'one' : pd.Series([1, 2, 3], index=['a', 'b', 'c']), \n",
        "   'two' : pd.Series([1, 2, 3, 4], index=['a', 'b', 'c', 'd'])}\n",
        "\n",
        "df = pd.DataFrame(d)\n",
        "print (df[1:3])"
      ],
      "execution_count": null,
      "outputs": [
        {
          "output_type": "stream",
          "name": "stdout",
          "text": [
            "   one  two\n",
            "b  2.0    2\n",
            "c  3.0    3\n"
          ]
        }
      ]
    },
    {
      "cell_type": "code",
      "metadata": {
        "colab": {
          "base_uri": "https://localhost:8080/"
        },
        "id": "Wc6_-k8xMkx6",
        "outputId": "078a508c-b393-4ef7-a233-dc592ab8d438"
      },
      "source": [
        "#Addition of Rows using append\n",
        "\n",
        "import pandas as pd\n",
        "\n",
        "df = pd.DataFrame([[1, 2, 9], [3, 4,10]], columns = ['a','b','c'])\n",
        "df2 = pd.DataFrame([[5, 6,11], [7, 8,12]], columns = ['a','b','c'])\n",
        "print (df)\n",
        "print(\"after appending\")\n",
        "df = df.append(df2)\n",
        "print (df)"
      ],
      "execution_count": null,
      "outputs": [
        {
          "output_type": "stream",
          "name": "stdout",
          "text": [
            "   a  b   c\n",
            "0  1  2   9\n",
            "1  3  4  10\n",
            "after appending\n",
            "   a  b   c\n",
            "0  1  2   9\n",
            "1  3  4  10\n",
            "0  5  6  11\n",
            "1  7  8  12\n"
          ]
        }
      ]
    },
    {
      "cell_type": "code",
      "metadata": {
        "colab": {
          "base_uri": "https://localhost:8080/"
        },
        "id": "4N7kUsP_Mkvc",
        "outputId": "0f972450-7485-4022-db11-d6bc1bbfdbe3"
      },
      "source": [
        "#Deletion of Rows\n",
        "\n",
        "import pandas as pd\n",
        "\n",
        "df = pd.DataFrame([[1, 2], [3, 4]], columns = ['a','b'])\n",
        "df2 = pd.DataFrame([[5, 6], [7, 8]], columns = ['a','b'])\n",
        "\n",
        "df = df.append(df2)\n",
        "\n",
        "# Drop rows with label 0\n",
        "df = df.drop(1)\n",
        "\n",
        "print (df)"
      ],
      "execution_count": null,
      "outputs": [
        {
          "output_type": "stream",
          "name": "stdout",
          "text": [
            "   a  b\n",
            "0  1  2\n",
            "0  5  6\n"
          ]
        }
      ]
    },
    {
      "cell_type": "markdown",
      "metadata": {
        "id": "kkzi6X2qGnjP"
      },
      "source": [
        "***PANDAS-1 series***"
      ]
    },
    {
      "cell_type": "code",
      "metadata": {
        "colab": {
          "base_uri": "https://localhost:8080/"
        },
        "id": "2sf_DEi-E9UO",
        "outputId": "af6b950f-55ac-43fe-eb7a-abac6dd99b7d"
      },
      "source": [
        "import pandas as pd\n",
        "import numpy as np\n",
        "\n",
        "#Create a series with 100 random numbers\n",
        "A = pd.Series(np.random.randn(7))\n",
        "print (A)"
      ],
      "execution_count": null,
      "outputs": [
        {
          "output_type": "stream",
          "name": "stdout",
          "text": [
            "0   -1.339310\n",
            "1   -1.984010\n",
            "2    0.912013\n",
            "3   -0.310632\n",
            "4   -0.606072\n",
            "5   -1.608138\n",
            "6    1.646629\n",
            "dtype: float64\n"
          ]
        }
      ]
    },
    {
      "cell_type": "code",
      "metadata": {
        "colab": {
          "base_uri": "https://localhost:8080/"
        },
        "id": "X7SnXtmyItO3",
        "outputId": "62fafbc4-df9f-4880-e6f2-3d0062a9d134"
      },
      "source": [
        "import pandas as pd\n",
        "import numpy as np\n",
        "\n",
        "#Create a series with 100 random numbers\n",
        "a = pd.Series(np.random.randn(2))\n",
        "print (\"The axes are:\")\n",
        "print (a.axes)"
      ],
      "execution_count": null,
      "outputs": [
        {
          "output_type": "stream",
          "name": "stdout",
          "text": [
            "The axes are:\n",
            "[RangeIndex(start=0, stop=2, step=1)]\n"
          ]
        }
      ]
    },
    {
      "cell_type": "code",
      "metadata": {
        "colab": {
          "base_uri": "https://localhost:8080/"
        },
        "id": "Wxip7FVwItK7",
        "outputId": "65ef83d4-ea9b-4bf9-b63d-414775cc206a"
      },
      "source": [
        "import pandas as pd\n",
        "import numpy as np\n",
        "\n",
        "#Create a series with 100 random numbers\n",
        "a = pd.Series(np.random.randn(6))\n",
        "print (\"Is the Object empty?\")\n",
        "print (a.empty)"
      ],
      "execution_count": null,
      "outputs": [
        {
          "output_type": "stream",
          "name": "stdout",
          "text": [
            "Is the Object empty?\n",
            "False\n"
          ]
        }
      ]
    },
    {
      "cell_type": "code",
      "metadata": {
        "colab": {
          "base_uri": "https://localhost:8080/"
        },
        "id": "Kd84U4BhItH1",
        "outputId": "fa6f76f5-bdb3-4321-91f0-d3ea5ef4abd7"
      },
      "source": [
        "import pandas as pd\n",
        "import numpy as np\n",
        "\n",
        "#Create a series with 4 random numbers\n",
        "s = pd.Series(np.random.randn(6))\n",
        "print (s)\n",
        "\n",
        "print (\"The dimensions of the object:\")\n",
        "print (s.ndim)"
      ],
      "execution_count": null,
      "outputs": [
        {
          "output_type": "stream",
          "name": "stdout",
          "text": [
            "0    0.294788\n",
            "1    0.390514\n",
            "2    1.391344\n",
            "3    0.039210\n",
            "4   -0.072556\n",
            "5   -0.294231\n",
            "dtype: float64\n",
            "The dimensions of the object:\n",
            "1\n"
          ]
        }
      ]
    },
    {
      "cell_type": "code",
      "metadata": {
        "colab": {
          "base_uri": "https://localhost:8080/"
        },
        "id": "6URSRlqOItDI",
        "outputId": "7364d0a6-a3a6-426e-b89b-f8cb439d4012"
      },
      "source": [
        "import pandas as pd\n",
        "import numpy as np\n",
        "\n",
        "#Create a series with 4 random numbers\n",
        "sa = pd.Series(np.random.randn(3))\n",
        "print (sa)\n",
        "print (\"The size of the object:\")\n",
        "print (sa.size)"
      ],
      "execution_count": null,
      "outputs": [
        {
          "output_type": "stream",
          "name": "stdout",
          "text": [
            "0    0.040960\n",
            "1    1.646188\n",
            "2   -0.123721\n",
            "dtype: float64\n",
            "The size of the object:\n",
            "3\n"
          ]
        }
      ]
    },
    {
      "cell_type": "code",
      "metadata": {
        "colab": {
          "base_uri": "https://localhost:8080/"
        },
        "id": "KaxQ03IYItAe",
        "outputId": "a7849ac0-c8f8-47e8-c587-39f00d4c7f97"
      },
      "source": [
        "import pandas as pd\n",
        "import numpy as np\n",
        "\n",
        "#Create a series with 4 random numbers\n",
        "sa = pd.Series(np.random.randn(3))\n",
        "print (sa)\n",
        "\n",
        "print (\"The actual data series is:\")\n",
        "print (sa.values)"
      ],
      "execution_count": null,
      "outputs": [
        {
          "output_type": "stream",
          "name": "stdout",
          "text": [
            "0    1.494972\n",
            "1    0.180457\n",
            "2   -1.611327\n",
            "dtype: float64\n",
            "The actual data series is:\n",
            "[ 1.49497182  0.18045741 -1.61132717]\n"
          ]
        }
      ]
    },
    {
      "cell_type": "code",
      "metadata": {
        "colab": {
          "base_uri": "https://localhost:8080/"
        },
        "id": "M4gxs82jIs9r",
        "outputId": "25b54357-6698-47a5-97ed-e7daec517406"
      },
      "source": [
        "import pandas as pd\n",
        "import numpy as np\n",
        "\n",
        "#Create a series with 4 random numbers\n",
        "a = pd.Series(np.random.randn(6))\n",
        "print (\"The original series is:\")\n",
        "print (a)\n",
        "\n",
        "print (\"The first row of the data series:\")\n",
        "print (a.head(1))"
      ],
      "execution_count": null,
      "outputs": [
        {
          "output_type": "stream",
          "name": "stdout",
          "text": [
            "The original series is:\n",
            "0   -0.488310\n",
            "1    0.958782\n",
            "2   -0.832462\n",
            "3   -1.954572\n",
            "4   -0.335693\n",
            "5    1.024940\n",
            "dtype: float64\n",
            "The first row of the data series:\n",
            "0   -0.48831\n",
            "dtype: float64\n"
          ]
        }
      ]
    },
    {
      "cell_type": "code",
      "metadata": {
        "colab": {
          "base_uri": "https://localhost:8080/"
        },
        "id": "BSX9bQ7oIs54",
        "outputId": "132460ed-716b-40de-afe6-5550d44e23bf"
      },
      "source": [
        "import pandas as pd\n",
        "import numpy as np\n",
        "\n",
        "#Create a series with 4 random numbers\n",
        "s = pd.Series(np.random.randn(5))\n",
        "print (\"The original series is:\")\n",
        "print (s)\n",
        "\n",
        "print (\"The last three rows of the data series:\")\n",
        "print (s.tail(3))"
      ],
      "execution_count": null,
      "outputs": [
        {
          "output_type": "stream",
          "name": "stdout",
          "text": [
            "The original series is:\n",
            "0   -1.957820\n",
            "1    1.222092\n",
            "2    0.833385\n",
            "3   -1.608054\n",
            "4   -0.009546\n",
            "dtype: float64\n",
            "The last three rows of the data series:\n",
            "2    0.833385\n",
            "3   -1.608054\n",
            "4   -0.009546\n",
            "dtype: float64\n"
          ]
        }
      ]
    },
    {
      "cell_type": "markdown",
      "metadata": {
        "id": "OgQZUO5RNufw"
      },
      "source": [
        "***PANDAS-1 dictionaries***"
      ]
    },
    {
      "cell_type": "code",
      "metadata": {
        "colab": {
          "base_uri": "https://localhost:8080/"
        },
        "id": "e6bvqVpkIs3N",
        "outputId": "51941be2-1f98-4bd2-ac56-11d4524a9fd6"
      },
      "source": [
        "import pandas as pd\n",
        "import numpy as np\n",
        "\n",
        "#Create a Dictionary of series\n",
        "dic = {'Name':pd.Series(['Abdur','Saasa','Ayus','Stephen','Smith rao','Jackshere']),\n",
        "   'Age':pd.Series([25,25,23,30,29,23]),\n",
        "   'Rating':pd.Series([3.24,3.98,2.56,3.20,4.6,3.8])}\n",
        "\n",
        "#Create a DataFrame\n",
        "df = pd.DataFrame(dic)\n",
        "print (\"Our data series is:\")\n",
        "print (df)"
      ],
      "execution_count": null,
      "outputs": [
        {
          "output_type": "stream",
          "name": "stdout",
          "text": [
            "Our data series is:\n",
            "        Name  Age  Rating\n",
            "0      Abdur   25    3.24\n",
            "1      Saasa   25    3.98\n",
            "2       Ayus   23    2.56\n",
            "3    Stephen   30    3.20\n",
            "4  Smith rao   29    4.60\n",
            "5  Jackshere   23    3.80\n"
          ]
        }
      ]
    },
    {
      "cell_type": "code",
      "metadata": {
        "colab": {
          "base_uri": "https://localhost:8080/"
        },
        "id": "zCml4SQBIsye",
        "outputId": "124d978e-29fc-4ccf-fdd8-ba9edd2e030e"
      },
      "source": [
        "import pandas as pd\n",
        "import numpy as np\n",
        " \n",
        "# Create a Dictionary of series\n",
        "dic = {'Name':pd.Series(['Abdur','Saasa','Ayus','Stephen','Smith rao','Jackshere']),\n",
        "   'Age':pd.Series([25,25,23,30,29,23]),\n",
        "   'Rating':pd.Series([3.24,3.98,2.56,3.20,4.6,3.8])}\n",
        "\n",
        "# Create a DataFrame\n",
        "df = pd.DataFrame(dic)\n",
        "print (\"The transpose of the data series is:\")\n",
        "print (df.T)"
      ],
      "execution_count": null,
      "outputs": [
        {
          "output_type": "stream",
          "name": "stdout",
          "text": [
            "The transpose of the data series is:\n",
            "            0      1     2        3          4          5\n",
            "Name    Abdur  Saasa  Ayus  Stephen  Smith rao  Jackshere\n",
            "Age        25     25    23       30         29         23\n",
            "Rating   3.24   3.98  2.56      3.2        4.6        3.8\n"
          ]
        }
      ]
    },
    {
      "cell_type": "code",
      "metadata": {
        "colab": {
          "base_uri": "https://localhost:8080/"
        },
        "id": "N4RejKCtIsuC",
        "outputId": "0740a705-4280-452f-cdd5-903933dfa5f8"
      },
      "source": [
        "import pandas as pd\n",
        "import numpy as np\n",
        "\n",
        "#Create a Dictionary of series\n",
        "dic = {'Name':pd.Series(['Abdur','Saasa','Ayus','Stephen','Smith rao','Jackshere']),\n",
        "   'Age':pd.Series([25,25,23,30,29,23]),\n",
        "   'Rating':pd.Series([3.24,3.98,2.56,3.20,4.6,3.8])}\n",
        "\n",
        "#Create a DataFrame\n",
        "df = pd.DataFrame(dic)\n",
        "print (\"Row axis labels and column axis labels are:\")\n",
        "print (df.axes)"
      ],
      "execution_count": null,
      "outputs": [
        {
          "output_type": "stream",
          "name": "stdout",
          "text": [
            "Row axis labels and column axis labels are:\n",
            "[RangeIndex(start=0, stop=6, step=1), Index(['Name', 'Age', 'Rating'], dtype='object')]\n"
          ]
        }
      ]
    },
    {
      "cell_type": "code",
      "metadata": {
        "colab": {
          "base_uri": "https://localhost:8080/"
        },
        "id": "e8Grr6_0IslS",
        "outputId": "cae38cbb-45c7-404e-9057-d986cf404f7c"
      },
      "source": [
        "import pandas as pd\n",
        "import numpy as np\n",
        "\n",
        "#Create a Dictionary of series\n",
        "dic = {'Name':pd.Series(['Abdur','Saasa','Ayus','Stephen','Smith rao','Jackshere']),\n",
        "   'Age':pd.Series([25,25,23,30,29,23]),\n",
        "   'Rating':pd.Series([3.24,3.98,2.56,3.20,4.6,3.8])}\n",
        "\n",
        "#Create a DataFrame\n",
        "df = pd.DataFrame(dic)\n",
        "print (\"The data types of each column are:\")\n",
        "print (df.dtypes)"
      ],
      "execution_count": null,
      "outputs": [
        {
          "output_type": "stream",
          "name": "stdout",
          "text": [
            "The data types of each column are:\n",
            "Name       object\n",
            "Age         int64\n",
            "Rating    float64\n",
            "dtype: object\n"
          ]
        }
      ]
    },
    {
      "cell_type": "code",
      "metadata": {
        "colab": {
          "base_uri": "https://localhost:8080/"
        },
        "id": "ibuFvqhbOq7n",
        "outputId": "cfc28bce-ae28-4a89-a01e-b23d9d3e7746"
      },
      "source": [
        "import pandas as pd\n",
        "import numpy as np\n",
        " \n",
        "#Create a Dictionary of series\n",
        "dic = {'Name':pd.Series(['Abdur','Saasa','Ayus','Stephen','Smith rao','Jackshere']),\n",
        "   'Age':pd.Series([25,25,23,30,29,23]),\n",
        "   'Rating':pd.Series([3.24,3.98,2.56,3.20,4.6,3.8])}\n",
        " \n",
        "#Create a DataFrame\n",
        "df = pd.DataFrame(dic)\n",
        "print (\"Is the object empty?\")\n",
        "print (df.empty)"
      ],
      "execution_count": null,
      "outputs": [
        {
          "output_type": "stream",
          "name": "stdout",
          "text": [
            "Is the object empty?\n",
            "False\n"
          ]
        }
      ]
    },
    {
      "cell_type": "code",
      "metadata": {
        "colab": {
          "base_uri": "https://localhost:8080/"
        },
        "id": "dGxH3kB4Oq6E",
        "outputId": "8da22d0c-270b-4b21-f09a-830b5ee1c569"
      },
      "source": [
        "#ndim-Returns the number of dimensions of the object. By definition, DataFrame is a 2D object.\n",
        "\n",
        "import pandas as pd\n",
        "import numpy as np\n",
        "\n",
        "#Create a Dictionary of series\n",
        "dic = {'Name':pd.Series(['Abdur','Saasa','Ayus','Stephen','Smith rao','Jackshere']),\n",
        "   'Age':pd.Series([25,25,23,30,29,23]),\n",
        "   'Rating':pd.Series([3.24,3.98,2.56,3.20,4.6,3.8])}\n",
        "\n",
        "#Create a DataFrame\n",
        "df = pd.DataFrame(dic)\n",
        "print (\"Our object is:\")\n",
        "print (df)\n",
        "print (\"The dimension of the object is:\")\n",
        "print (df.ndim)"
      ],
      "execution_count": null,
      "outputs": [
        {
          "output_type": "stream",
          "name": "stdout",
          "text": [
            "Our object is:\n",
            "        Name  Age  Rating\n",
            "0      Abdur   25    3.24\n",
            "1      Saasa   25    3.98\n",
            "2       Ayus   23    2.56\n",
            "3    Stephen   30    3.20\n",
            "4  Smith rao   29    4.60\n",
            "5  Jackshere   23    3.80\n",
            "The dimension of the object is:\n",
            "2\n"
          ]
        }
      ]
    },
    {
      "cell_type": "code",
      "metadata": {
        "colab": {
          "base_uri": "https://localhost:8080/"
        },
        "id": "i3LIPIEPOq2I",
        "outputId": "8bcd9f84-6678-4f1b-d89d-9d1b8c288ac2"
      },
      "source": [
        "import pandas as pd\n",
        "import numpy as np\n",
        " \n",
        "#Create a Dictionary of series\n",
        "dic = {'Name':pd.Series(['Abdur','Saasa','Ayus','Stephen','Smith rao','Jackshere']),\n",
        "   'Age':pd.Series([25,25,23,30,29,23]),\n",
        "   'Rating':pd.Series([3.24,3.98,2.56,3.20,4.6,3.8])}\n",
        " \n",
        "#Create a DataFrame\n",
        "df = pd.DataFrame(dic)\n",
        "print (\"Our object is:\")\n",
        "print (df)\n",
        "print (\"The shape of the object is:\")\n",
        "print (df.shape)\n"
      ],
      "execution_count": null,
      "outputs": [
        {
          "output_type": "stream",
          "name": "stdout",
          "text": [
            "Our object is:\n",
            "        Name  Age  Rating\n",
            "0      Abdur   25    3.24\n",
            "1      Saasa   25    3.98\n",
            "2       Ayus   23    2.56\n",
            "3    Stephen   30    3.20\n",
            "4  Smith rao   29    4.60\n",
            "5  Jackshere   23    3.80\n",
            "The shape of the object is:\n",
            "(6, 3)\n"
          ]
        }
      ]
    },
    {
      "cell_type": "code",
      "metadata": {
        "colab": {
          "base_uri": "https://localhost:8080/"
        },
        "id": "kxixPz2ROqzG",
        "outputId": "2a4bf2dc-29df-4b19-cc8a-1a18718b845a"
      },
      "source": [
        "import pandas as pd\n",
        "import numpy as np\n",
        " \n",
        "#Create a Dictionary of series\n",
        "dic = {'Name':pd.Series(['Abdur','Saasa','Ayus','Stephen','Smith rao','Jackshere']),\n",
        "   'Age':pd.Series([25,25,23,30,29,23]),\n",
        "   'Rating':pd.Series([3.24,3.98,2.56,3.20,4.6,3.8])}\n",
        " \n",
        "#Create a DataFrame\n",
        "df = pd.DataFrame(dic)\n",
        "print (\"Our object is:\")\n",
        "print (df)\n",
        "print (\"The total number of elements in our object is:\")\n",
        "print (df.size)"
      ],
      "execution_count": null,
      "outputs": [
        {
          "output_type": "stream",
          "name": "stdout",
          "text": [
            "Our object is:\n",
            "        Name  Age  Rating\n",
            "0      Abdur   25    3.24\n",
            "1      Saasa   25    3.98\n",
            "2       Ayus   23    2.56\n",
            "3    Stephen   30    3.20\n",
            "4  Smith rao   29    4.60\n",
            "5  Jackshere   23    3.80\n",
            "The total number of elements in our object is:\n",
            "18\n"
          ]
        }
      ]
    },
    {
      "cell_type": "code",
      "metadata": {
        "colab": {
          "base_uri": "https://localhost:8080/"
        },
        "id": "1LVYJlQsOquj",
        "outputId": "21aba0c2-277a-4dff-e52e-a13aa9d9cf1b"
      },
      "source": [
        "import pandas as pd\n",
        "import numpy as np\n",
        " \n",
        "#Create a Dictionary of series\n",
        "dic = {'Name':pd.Series(['Abdur','Saasa','Ayus','Stephen','Smith rao','Jackshere']),\n",
        "   'Age':pd.Series([25,25,23,30,29,23]),\n",
        "   'Rating':pd.Series([3.24,3.98,2.56,3.20,4.6,3.8])}\n",
        " \n",
        "#Create a DataFrame\n",
        "df = pd.DataFrame(dic)\n",
        "print (\"Our object is:\")\n",
        "print (df)\n",
        "print (\"The actual data in our data frame is:\")\n",
        "print (df.values)"
      ],
      "execution_count": null,
      "outputs": [
        {
          "output_type": "stream",
          "name": "stdout",
          "text": [
            "Our object is:\n",
            "        Name  Age  Rating\n",
            "0      Abdur   25    3.24\n",
            "1      Saasa   25    3.98\n",
            "2       Ayus   23    2.56\n",
            "3    Stephen   30    3.20\n",
            "4  Smith rao   29    4.60\n",
            "5  Jackshere   23    3.80\n",
            "The actual data in our data frame is:\n",
            "[['Abdur' 25 3.24]\n",
            " ['Saasa' 25 3.98]\n",
            " ['Ayus' 23 2.56]\n",
            " ['Stephen' 30 3.2]\n",
            " ['Smith rao' 29 4.6]\n",
            " ['Jackshere' 23 3.8]]\n"
          ]
        }
      ]
    },
    {
      "cell_type": "code",
      "metadata": {
        "colab": {
          "base_uri": "https://localhost:8080/"
        },
        "id": "tnmRckmzOqqN",
        "outputId": "813ac7a4-128a-4a1d-9caa-a7c2a2a140e1"
      },
      "source": [
        "import pandas as pd\n",
        "import numpy as np\n",
        " \n",
        "#Create a Dictionary of series\n",
        "dic = {'Name':pd.Series(['Abdur','Saasa','Ayus','Stephen','Smith rao','Jackshere']),\n",
        "   'Age':pd.Series([25,25,23,30,29,23]),\n",
        "   'Rating':pd.Series([3.24,3.98,2.56,3.20,4.6,3.8])}\n",
        "\n",
        "#Create a DataFrame\n",
        "df = pd.DataFrame(dic)\n",
        "print (\"Our data frame is:\")\n",
        "print (df)\n",
        "print (\"The first two rows of the data frame is:\")\n",
        "print (df.head(3))\n",
        "print(\"default head values\")\n",
        "print (df.head())"
      ],
      "execution_count": null,
      "outputs": [
        {
          "output_type": "stream",
          "name": "stdout",
          "text": [
            "Our data frame is:\n",
            "        Name  Age  Rating\n",
            "0      Abdur   25    3.24\n",
            "1      Saasa   25    3.98\n",
            "2       Ayus   23    2.56\n",
            "3    Stephen   30    3.20\n",
            "4  Smith rao   29    4.60\n",
            "5  Jackshere   23    3.80\n",
            "The first two rows of the data frame is:\n",
            "    Name  Age  Rating\n",
            "0  Abdur   25    3.24\n",
            "1  Saasa   25    3.98\n",
            "2   Ayus   23    2.56\n",
            "default head values\n",
            "        Name  Age  Rating\n",
            "0      Abdur   25    3.24\n",
            "1      Saasa   25    3.98\n",
            "2       Ayus   23    2.56\n",
            "3    Stephen   30    3.20\n",
            "4  Smith rao   29    4.60\n"
          ]
        }
      ]
    },
    {
      "cell_type": "code",
      "metadata": {
        "colab": {
          "base_uri": "https://localhost:8080/"
        },
        "id": "mg30AUkwOqbl",
        "outputId": "03d07c7a-f742-46e3-b37d-0bedea0811f1"
      },
      "source": [
        "import pandas as pd\n",
        "import numpy as np\n",
        "\n",
        "#Create a Dictionary of series\n",
        "dic = {'Name':pd.Series(['Abdur','Saasa','Ayus','Stephen','Smith rao','Jackshere']),\n",
        "   'Age':pd.Series([25,25,23,30,29,23]),\n",
        "   'Rating':pd.Series([3.24,3.98,2.56,3.20,4.6,3.8])}\n",
        "\n",
        " \n",
        "#Create a DataFrame\n",
        "df = pd.DataFrame(dic)\n",
        "print (\"Our data frame is:\")\n",
        "print (df)\n",
        "print (\"The last two rows of the data frame is:\")\n",
        "print (df.tail(2))"
      ],
      "execution_count": null,
      "outputs": [
        {
          "output_type": "stream",
          "name": "stdout",
          "text": [
            "Our data frame is:\n",
            "        Name  Age  Rating\n",
            "0      Abdur   25    3.24\n",
            "1      Saasa   25    3.98\n",
            "2       Ayus   23    2.56\n",
            "3    Stephen   30    3.20\n",
            "4  Smith rao   29    4.60\n",
            "5  Jackshere   23    3.80\n",
            "The last two rows of the data frame is:\n",
            "        Name  Age  Rating\n",
            "4  Smith rao   29     4.6\n",
            "5  Jackshere   23     3.8\n"
          ]
        }
      ]
    },
    {
      "cell_type": "markdown",
      "metadata": {
        "id": "KKo4cil-Polk"
      },
      "source": [
        "PANDAS - DESCRIPTIVE"
      ]
    },
    {
      "cell_type": "code",
      "metadata": {
        "colab": {
          "base_uri": "https://localhost:8080/"
        },
        "id": "iSTo1LSAPn8M",
        "outputId": "54e181d0-7cd6-4610-82b9-86794efb0479"
      },
      "source": [
        "import pandas as pd\n",
        "import numpy as np\n",
        "\n",
        "#Create a Dictionary of series\n",
        "d = {'Name':pd.Series(['Dom','Jimmy','Rimmy','Vinny','Steveene','Smithiye','Jackakie',\n",
        "   'Leecooper','Davidson','Gasper','Betinaz','Andresese']),\n",
        "   'Age':pd.Series([5,6,25,33,32,22,26,34,40,30,51,46]),\n",
        "   'Rating':pd.Series([4.23,3.24,3.98,2.56,3.20,4.6,3.8,3.78,2.98,4.80,4.10,3.65])\n",
        "}\n",
        "\n",
        "#Create a DataFrame\n",
        "df = pd.DataFrame(d)\n",
        "print (df)"
      ],
      "execution_count": null,
      "outputs": [
        {
          "output_type": "stream",
          "name": "stdout",
          "text": [
            "         Name  Age  Rating\n",
            "0         Dom    5    4.23\n",
            "1       Jimmy    6    3.24\n",
            "2       Rimmy   25    3.98\n",
            "3       Vinny   33    2.56\n",
            "4    Steveene   32    3.20\n",
            "5    Smithiye   22    4.60\n",
            "6    Jackakie   26    3.80\n",
            "7   Leecooper   34    3.78\n",
            "8    Davidson   40    2.98\n",
            "9      Gasper   30    4.80\n",
            "10    Betinaz   51    4.10\n",
            "11  Andresese   46    3.65\n"
          ]
        }
      ]
    },
    {
      "cell_type": "code",
      "metadata": {
        "colab": {
          "base_uri": "https://localhost:8080/"
        },
        "id": "hTzfJ5O4QTld",
        "outputId": "52195eb2-c288-4753-81cd-c9247ddd392e"
      },
      "source": [
        "import pandas as pd\n",
        "import numpy as np\n",
        " \n",
        "#Create a Dictionary of series\n",
        "d = {'Name':pd.Series(['Dom','Jimmy','Rimmy','Vinny','Steveene','Smithiye','Jackakie',\n",
        "   'Leecooper','Davidson','Gasper','Betinaz','Andresese']),\n",
        "   'Age':pd.Series([5,6,25,33,32,22,26,34,40,30,51,46]),\n",
        "   'Rating':pd.Series([4.23,3.24,3.98,2.56,3.20,4.6,3.8,3.78,2.98,4.80,4.10,3.65])\n",
        "}\n",
        "\n",
        "#Create a DataFrame\n",
        "df = pd.DataFrame(d)\n",
        "print (df.sum())\n"
      ],
      "execution_count": null,
      "outputs": [
        {
          "output_type": "stream",
          "name": "stdout",
          "text": [
            "Name      DomJimmyRimmyVinnySteveeneSmithiyeJackakieLeec...\n",
            "Age                                                     350\n",
            "Rating                                                44.92\n",
            "dtype: object\n"
          ]
        }
      ]
    },
    {
      "cell_type": "code",
      "metadata": {
        "colab": {
          "base_uri": "https://localhost:8080/"
        },
        "id": "AX0PJIzcQTia",
        "outputId": "209136fc-5456-425d-fce4-6105dbe7924c"
      },
      "source": [
        "import pandas as pd\n",
        "import numpy as np\n",
        " \n",
        "#Create a Dictionary of series\n",
        "d = {'Name':pd.Series(['Dom','Jimmy','Rimmy','Vinny','Steveene','Smithiye','Jackakie',\n",
        "   'Leecooper','Davidson','Gasper','Betinaz','Andresese']),\n",
        "   'Age':pd.Series([5,6,25,33,32,22,26,34,40,30,51,46]),\n",
        "   'Rating':pd.Series([4.23,3.24,3.98,2.56,3.20,4.6,3.8,3.78,2.98,4.80,4.10,3.65])\n",
        "}\n",
        " \n",
        "#Create a DataFrame\n",
        "df = pd.DataFrame(d)\n",
        "print (df.sum(1))"
      ],
      "execution_count": null,
      "outputs": [
        {
          "output_type": "stream",
          "name": "stdout",
          "text": [
            "0      9.23\n",
            "1      9.24\n",
            "2     28.98\n",
            "3     35.56\n",
            "4     35.20\n",
            "5     26.60\n",
            "6     29.80\n",
            "7     37.78\n",
            "8     42.98\n",
            "9     34.80\n",
            "10    55.10\n",
            "11    49.65\n",
            "dtype: float64\n"
          ]
        }
      ]
    },
    {
      "cell_type": "code",
      "metadata": {
        "colab": {
          "base_uri": "https://localhost:8080/"
        },
        "id": "-UPqn0MlQTeF",
        "outputId": "4dcc08c4-1b5b-40c1-a855-a0a6daa0ca3d"
      },
      "source": [
        "import pandas as pd\n",
        "import numpy as np\n",
        "\n",
        "#Create a Dictionary of series\n",
        "d = {'Name':pd.Series(['Dom','Jimmy','Rimmy','Vinny','Steveene','Smithiye','Jackakie',\n",
        "   'Leecooper','Davidson','Gasper','Betinaz','Andresese']),\n",
        "   'Age':pd.Series([5,6,25,33,32,22,26,34,40,30,51,46]),\n",
        "   'Rating':pd.Series([14.23,3.24,3.98,2.56,3.20,4,3.8,3.78,2.98,4.80,4.10,3])\n",
        "}\n",
        "\n",
        "#Create a DataFrame\n",
        "df = pd.DataFrame(d)\n",
        "print (df.mean())"
      ],
      "execution_count": null,
      "outputs": [
        {
          "output_type": "stream",
          "name": "stdout",
          "text": [
            "Age       29.166667\n",
            "Rating     4.472500\n",
            "dtype: float64\n"
          ]
        }
      ]
    },
    {
      "cell_type": "code",
      "metadata": {
        "colab": {
          "base_uri": "https://localhost:8080/"
        },
        "id": "2d46TyshQTbQ",
        "outputId": "6a5fc0a2-22fa-4f47-949b-c982349f8eef"
      },
      "source": [
        "import pandas as pd\n",
        "import numpy as np\n",
        "\n",
        "#Create a Dictionary of series\n",
        "d = {'Name':pd.Series(['Dom','Jimmy','Rimmy','Vinny','Steveene','Smithiye','Jackakie',\n",
        "   'Leecooper','Davidson','Gasper','Betinaz','Andresese']),\n",
        "   'Age':pd.Series([5,6,25,33,32,22,26,34,40,30,51,46]),\n",
        "   'Rating':pd.Series([14.23,3.24,3.98,2.56,3.20,4,3.8,3.78,2.98,4.80,4.10,3])\n",
        "}\n",
        "\n",
        "#Create a DataFrame\n",
        "df = pd.DataFrame(d)\n",
        "print (df.std())"
      ],
      "execution_count": null,
      "outputs": [
        {
          "output_type": "stream",
          "name": "stdout",
          "text": [
            "Age       13.894625\n",
            "Rating     3.134039\n",
            "dtype: float64\n"
          ]
        }
      ]
    },
    {
      "cell_type": "code",
      "metadata": {
        "colab": {
          "base_uri": "https://localhost:8080/"
        },
        "id": "fXAAbmjxQTRv",
        "outputId": "faf8b2ad-fa1d-425f-c1ba-c755c97a8ef8"
      },
      "source": [
        "import pandas as pd\n",
        "import numpy as np\n",
        "\n",
        "#Create a Dictionary of series\n",
        "d = {'Name':pd.Series(['Dom','Jimmy','Rimmy','Vinny','Steveene','Smithiye','Jackakie',\n",
        "   'Leecooper','Davidson','Gasper','Betinaz','Andresese']),\n",
        "   'Age':pd.Series([5,6,25,33,32,22,26,34,40,30,51,46]),\n",
        "   'Rating':pd.Series([14.23,3.24,3.98,2.56,3.20,4,3.8,3.78,2.98,4.80,4.10,3])\n",
        "}\n",
        "\n",
        "#Create a DataFrame\n",
        "df = pd.DataFrame(d)\n",
        "print (df.describe())"
      ],
      "execution_count": null,
      "outputs": [
        {
          "output_type": "stream",
          "name": "stdout",
          "text": [
            "             Age     Rating\n",
            "count  12.000000  12.000000\n",
            "mean   29.166667   4.472500\n",
            "std    13.894625   3.134039\n",
            "min     5.000000   2.560000\n",
            "25%    24.250000   3.150000\n",
            "50%    31.000000   3.790000\n",
            "75%    35.500000   4.025000\n",
            "max    51.000000  14.230000\n"
          ]
        }
      ]
    },
    {
      "cell_type": "code",
      "metadata": {
        "colab": {
          "base_uri": "https://localhost:8080/"
        },
        "id": "h06wlcUrRE6o",
        "outputId": "c72a2bce-6d82-4638-a801-14c37df05ccb"
      },
      "source": [
        "import pandas as pd\n",
        "import numpy as np\n",
        "\n",
        "#Create a Dictionary of series\n",
        "d = {'Name':pd.Series(['Dom','Jimmy','Rimmy','Vinny','Steveene','Smithiye','Jackakie',\n",
        "   'Leecooper','Davidson','Gasper','Betinaz','Andresese']),\n",
        "   'Age':pd.Series([5,6,25,33,32,22,26,34,40,30,51,46]),\n",
        "   'Rating':pd.Series([14.23,3.24,3.98,2.56,3.20,4,3.8,3.78,2.98,4.80,4.10,3])\n",
        "}\n",
        "\n",
        "#Create a DataFrame\n",
        "df = pd.DataFrame(d)\n",
        "print (df.describe(include=['object']))"
      ],
      "execution_count": null,
      "outputs": [
        {
          "output_type": "stream",
          "name": "stdout",
          "text": [
            "           Name\n",
            "count        12\n",
            "unique       12\n",
            "top     Betinaz\n",
            "freq          1\n"
          ]
        }
      ]
    },
    {
      "cell_type": "code",
      "metadata": {
        "colab": {
          "base_uri": "https://localhost:8080/"
        },
        "id": "GHgWJdHCREqp",
        "outputId": "1532de0f-52ec-4e0e-bc52-4a406051f7fb"
      },
      "source": [
        "import pandas as pd\n",
        "import numpy as np\n",
        "\n",
        "#Create a Dictionary of series\n",
        "d = {'Name':pd.Series(['Dom','Jimmy','Rimmy','Vinny','Steveene','Smithiye','Jackakie',\n",
        "   'Leecooper','Davidson','Gasper','Betinaz','Andresese']),\n",
        "   'Age':pd.Series([5,6,25,33,32,22,26,34,40,30,51,46]),\n",
        "   'Rating':pd.Series([14.23,3.24,3.98,2.56,3.20,4,3.8,3.78,2.98,4.80,4.10,3])\n",
        "}\n",
        "\n",
        "#Create a DataFrame\n",
        "df = pd.DataFrame(d)\n",
        "print (df. describe(include='all'))"
      ],
      "execution_count": null,
      "outputs": [
        {
          "output_type": "stream",
          "name": "stdout",
          "text": [
            "           Name        Age     Rating\n",
            "count        12  12.000000  12.000000\n",
            "unique       12        NaN        NaN\n",
            "top     Betinaz        NaN        NaN\n",
            "freq          1        NaN        NaN\n",
            "mean        NaN  29.166667   4.472500\n",
            "std         NaN  13.894625   3.134039\n",
            "min         NaN   5.000000   2.560000\n",
            "25%         NaN  24.250000   3.150000\n",
            "50%         NaN  31.000000   3.790000\n",
            "75%         NaN  35.500000   4.025000\n",
            "max         NaN  51.000000  14.230000\n"
          ]
        }
      ]
    },
    {
      "cell_type": "code",
      "metadata": {
        "colab": {
          "base_uri": "https://localhost:8080/"
        },
        "id": "GWsWFiNtRPD-",
        "outputId": "3cf09911-e923-4811-a24a-913aa310409d"
      },
      "source": [
        "# Import package\n",
        "from pandas import DataFrame\n",
        "\n",
        "# Create DataFrame\n",
        "cart = {'Product': ['Mobile', 'Stoves', 'Desktops', 'Sofa', 'Laptop'],\n",
        "\t\t'Price': [60000, 48000, 32000, 15000, 25000],\n",
        "\t\t'Year': [2014, 2015, 2016, 2017, 2018]\n",
        "\t\t}\n",
        "df = DataFrame(cart, columns = ['Product', 'Price', 'Year'])\n",
        "\n",
        "# Original DataFrame\n",
        "print(\"Original DataFrame:\\n\", df)\n",
        "\n",
        "# Describing descriptive statistics of Price\n",
        "print(\"\\nDescriptive statistics of Price:\\n\")\n",
        "stats = df['Price'].describe()\n",
        "print(stats)\n"
      ],
      "execution_count": null,
      "outputs": [
        {
          "output_type": "stream",
          "name": "stdout",
          "text": [
            "Original DataFrame:\n",
            "     Product  Price  Year\n",
            "0    Mobile  60000  2014\n",
            "1    Stoves  48000  2015\n",
            "2  Desktops  32000  2016\n",
            "3      Sofa  15000  2017\n",
            "4    Laptop  25000  2018\n",
            "\n",
            "Descriptive statistics of Price:\n",
            "\n",
            "count        5.000000\n",
            "mean     36000.000000\n",
            "std      18013.883535\n",
            "min      15000.000000\n",
            "25%      25000.000000\n",
            "50%      32000.000000\n",
            "75%      48000.000000\n",
            "max      60000.000000\n",
            "Name: Price, dtype: float64\n"
          ]
        }
      ]
    },
    {
      "cell_type": "code",
      "metadata": {
        "colab": {
          "base_uri": "https://localhost:8080/"
        },
        "id": "LyhnKkw9RPAq",
        "outputId": "8f603966-bafc-4c61-e6c8-899dd52b8d51"
      },
      "source": [
        "# Import package\n",
        "\n",
        "\n",
        "# Create DataFrame\n",
        "cart = {'Product': ['Mobile', 'Stoves', 'Desktops', 'Sofa', 'Laptop'],\n",
        "\t\t'Price': [60000, 48000, 32000, 15000, 25000],\n",
        "\t\t'Year': [2014, 2015, 2016, 2017, 2018]\n",
        "\t\t}\n",
        "df = DataFrame(cart, columns = ['Product', 'Price', 'Year'])\n",
        "\t\t\n",
        "df = DataFrame(cart, columns = ['Product', 'Price', 'Year'])\n",
        "\n",
        "# Original DataFrame\n",
        "print(\"Original DataFrame:\\n\", df)\n",
        "\n",
        "# Describing descriptive statistics of Year\n",
        "print(\"\\nDescriptive statistics of year:\\n\")\n",
        "stats = df['Year'].describe()\n",
        "print(stats)\n"
      ],
      "execution_count": null,
      "outputs": [
        {
          "output_type": "stream",
          "name": "stdout",
          "text": [
            "Original DataFrame:\n",
            "     Product  Price  Year\n",
            "0    Mobile  60000  2014\n",
            "1    Stoves  48000  2015\n",
            "2  Desktops  32000  2016\n",
            "3      Sofa  15000  2017\n",
            "4    Laptop  25000  2018\n",
            "\n",
            "Descriptive statistics of year:\n",
            "\n",
            "count       5.000000\n",
            "mean     2016.000000\n",
            "std         1.581139\n",
            "min      2014.000000\n",
            "25%      2015.000000\n",
            "50%      2016.000000\n",
            "75%      2017.000000\n",
            "max      2018.000000\n",
            "Name: Year, dtype: float64\n"
          ]
        }
      ]
    },
    {
      "cell_type": "code",
      "metadata": {
        "colab": {
          "base_uri": "https://localhost:8080/"
        },
        "id": "I_xm3cs7ROR2",
        "outputId": "2fee3eaf-cd9d-48d7-d6a0-e0e4d16393a5"
      },
      "source": [
        "\n",
        "\n",
        "# Create DataFrame\n",
        "cart = {'Product': ['Mobile', 'Stoves', 'Desktops', 'Sofa', 'Laptop'],\n",
        "\t\t'Price': [60000, 48000, 32000, 15000, 25000],\n",
        "\t\t'Year': [2014, 2015, 2016, 2017, 2018]\n",
        "\t\t}\n",
        "df = DataFrame(cart, columns = ['Product', 'Price', 'Year'])\n",
        "\n",
        "# Original DataFrame\n",
        "print(\"Original DataFrame:\\n\", df)\n",
        "\n",
        "# Describing descriptive statistics of whole dataframe\n",
        "print(\"\\nDescriptive statistics of whole dataframe:\\n\")\n",
        "stats = df.describe(include = 'all')\n",
        "print(stats)\n"
      ],
      "execution_count": null,
      "outputs": [
        {
          "output_type": "stream",
          "name": "stdout",
          "text": [
            "Original DataFrame:\n",
            "     Product  Price  Year\n",
            "0    Mobile  60000  2014\n",
            "1    Stoves  48000  2015\n",
            "2  Desktops  32000  2016\n",
            "3      Sofa  15000  2017\n",
            "4    Laptop  25000  2018\n",
            "\n",
            "Descriptive statistics of whole dataframe:\n",
            "\n",
            "       Product         Price         Year\n",
            "count        5      5.000000     5.000000\n",
            "unique       5           NaN          NaN\n",
            "top     Stoves           NaN          NaN\n",
            "freq         1           NaN          NaN\n",
            "mean       NaN  36000.000000  2016.000000\n",
            "std        NaN  18013.883535     1.581139\n",
            "min        NaN  15000.000000  2014.000000\n",
            "25%        NaN  25000.000000  2015.000000\n",
            "50%        NaN  32000.000000  2016.000000\n",
            "75%        NaN  48000.000000  2017.000000\n",
            "max        NaN  60000.000000  2018.000000\n"
          ]
        }
      ]
    },
    {
      "cell_type": "code",
      "metadata": {
        "colab": {
          "base_uri": "https://localhost:8080/"
        },
        "id": "mJgLjpJHYM3o",
        "outputId": "59c7452a-605a-41ac-82da-f42b7b6dc5c2"
      },
      "source": [
        "\n",
        "\n",
        "# Create DataFrame\n",
        "cart = {'Product': ['Mobile', 'Stoves', 'Desktops', 'Sofa', 'Laptop'],\n",
        "\t\t'Price': [60000, 48000, 32000, 15000, 25000],\n",
        "\t\t'Year': [2014, 2015, 2016, 2017, 2018]\n",
        "\t\t}\n",
        "df = DataFrame(cart, columns = ['Product', 'Price', 'Year'])\n",
        "\n",
        "# Original DataFrame\n",
        "print(\"Original DataFrame:\\n\", df)\n",
        "\n",
        "# Print Count of Price\n",
        "print(\"\\nCount of Price:\\n\")\n",
        "counts = df['Price'].count()\n",
        "print(counts)\n",
        "\n",
        "# Print mean of Price\n",
        "print(\"\\nMean of Price:\\n\")\n",
        "m = df['Price'].mean()\n",
        "print(m)\n",
        "\n",
        "# Print maximum value of Price\n",
        "print(\"\\nMaximum value of Price:\\n\")\n",
        "mx = df['Price'].max()\n",
        "print(m)\n",
        "\n",
        "# Print standard deviation of Price\n",
        "print(\"\\nStandard deviation of Price:\\n\")\n",
        "sd = df['Price'].std()\n",
        "print(sd)\n"
      ],
      "execution_count": null,
      "outputs": [
        {
          "output_type": "stream",
          "name": "stdout",
          "text": [
            "Original DataFrame:\n",
            "     Product  Price  Year\n",
            "0    Mobile  60000  2014\n",
            "1    Stoves  48000  2015\n",
            "2  Desktops  32000  2016\n",
            "3      Sofa  15000  2017\n",
            "4    Laptop  25000  2018\n",
            "\n",
            "Count of Price:\n",
            "\n",
            "5\n",
            "\n",
            "Mean of Price:\n",
            "\n",
            "36000.0\n",
            "\n",
            "Maximum value of Price:\n",
            "\n",
            "36000.0\n",
            "\n",
            "Standard deviation of Price:\n",
            "\n",
            "18013.88353465182\n"
          ]
        }
      ]
    },
    {
      "cell_type": "markdown",
      "metadata": {
        "id": "G-5ljbduesiW"
      },
      "source": [
        "FUNCTION APPLICATION AND LAMDA"
      ]
    },
    {
      "cell_type": "code",
      "metadata": {
        "colab": {
          "base_uri": "https://localhost:8080/"
        },
        "id": "ce1eExYJe0C9",
        "outputId": "9ecc375f-b7e9-4712-8b2d-b0fc0dbf8d2d"
      },
      "source": [
        "import pandas as pd\n",
        "import numpy as np\n",
        "\n",
        "def adder(ele1,ele2):\n",
        "   return ele1+ele2\n",
        "\n",
        "df = pd.DataFrame(np.random.randn(5,3),columns=['col1','col2','col3'])\n",
        "print(df)\n",
        "print(\"printing the results of pipe\")\n",
        "print(df.pipe(adder,2))"
      ],
      "execution_count": null,
      "outputs": [
        {
          "output_type": "stream",
          "name": "stdout",
          "text": [
            "       col1      col2      col3\n",
            "0 -0.362450  0.300763 -0.857949\n",
            "1 -0.484057 -1.298558  1.397902\n",
            "2  0.246961  0.864728 -0.099777\n",
            "3 -0.259023  0.596968  0.560112\n",
            "4 -1.069790  0.034848  0.735424\n",
            "printing the results of pipe\n",
            "       col1      col2      col3\n",
            "0  1.637550  2.300763  1.142051\n",
            "1  1.515943  0.701442  3.397902\n",
            "2  2.246961  2.864728  1.900223\n",
            "3  1.740977  2.596968  2.560112\n",
            "4  0.930210  2.034848  2.735424\n"
          ]
        }
      ]
    },
    {
      "cell_type": "code",
      "metadata": {
        "colab": {
          "base_uri": "https://localhost:8080/"
        },
        "id": "f-jOTwDge6Qp",
        "outputId": "f675759c-3515-4f8f-8bdd-56c0f8b38dcc"
      },
      "source": [
        "import pandas as pd\n",
        "import numpy as np\n",
        "\n",
        "def adder(ele1,ele2):\n",
        "   return ele1+ele2\n",
        "\n",
        "df = pd.DataFrame(np.random.randn(5,3),columns=['col1','col2','col3'])\n",
        "print(df)\n",
        "\n",
        "print (df.apply(np.mean))"
      ],
      "execution_count": null,
      "outputs": [
        {
          "output_type": "stream",
          "name": "stdout",
          "text": [
            "       col1      col2      col3\n",
            "0 -0.272967  1.364209  0.061745\n",
            "1 -1.365196  0.568409  0.244973\n",
            "2  0.985644 -1.319562 -0.502446\n",
            "3 -0.211888 -0.860905 -0.964454\n",
            "4 -0.683023  1.209813 -0.157544\n",
            "col1   -0.309486\n",
            "col2    0.192393\n",
            "col3   -0.263545\n",
            "dtype: float64\n"
          ]
        }
      ]
    },
    {
      "cell_type": "code",
      "metadata": {
        "colab": {
          "base_uri": "https://localhost:8080/"
        },
        "id": "EU9IyjTCe6ES",
        "outputId": "b1d2c1de-039d-490b-bfee-9b0f58da26d3"
      },
      "source": [
        "import pandas as pd\n",
        "import numpy as np\n",
        "\n",
        "df = pd.DataFrame(np.random.randn(5,3),columns=['col1','col2','col3'])\n",
        "print(df)\n",
        "\n",
        "print (df.apply(np.mean,axis=1))"
      ],
      "execution_count": null,
      "outputs": [
        {
          "output_type": "stream",
          "name": "stdout",
          "text": [
            "       col1      col2      col3\n",
            "0  0.627971  2.411205  0.315580\n",
            "1 -0.496419 -0.133551 -1.356422\n",
            "2 -1.529962 -0.293939  0.457079\n",
            "3 -0.132654 -0.464387 -0.934772\n",
            "4 -0.149384  1.948003 -0.476765\n",
            "0    1.118252\n",
            "1   -0.662131\n",
            "2   -0.455607\n",
            "3   -0.510604\n",
            "4    0.440618\n",
            "dtype: float64\n"
          ]
        }
      ]
    },
    {
      "cell_type": "code",
      "metadata": {
        "colab": {
          "base_uri": "https://localhost:8080/"
        },
        "id": "6EYEzEeUe9JI",
        "outputId": "de610fcf-476e-49b8-b9fb-a371a9abd390"
      },
      "source": [
        "import pandas as pd\n",
        "import numpy as np\n",
        "df = pd.DataFrame(np.random.randn(5,3),columns=['col1','col2','col3'])\n",
        "print(df)\n",
        "\n",
        "print(df['col1'].map(lambda x:x*100))\n"
      ],
      "execution_count": null,
      "outputs": [
        {
          "output_type": "stream",
          "name": "stdout",
          "text": [
            "       col1      col2      col3\n",
            "0 -0.088088 -0.179030 -1.019345\n",
            "1  2.072556 -0.891425 -0.328624\n",
            "2  0.242290  1.376335  0.471070\n",
            "3  1.225102 -0.519541 -1.055951\n",
            "4  0.399037 -0.705713  0.494530\n",
            "0     -8.808809\n",
            "1    207.255645\n",
            "2     24.229000\n",
            "3    122.510209\n",
            "4     39.903742\n",
            "Name: col1, dtype: float64\n"
          ]
        }
      ]
    },
    {
      "cell_type": "code",
      "metadata": {
        "colab": {
          "base_uri": "https://localhost:8080/"
        },
        "id": "tLFqkjfoe5zw",
        "outputId": "360227b6-6ff6-4a82-efe2-0bf85a1c2c39"
      },
      "source": [
        "df=pd.DataFrame({'id':[1,2,3,4,5]\n",
        "                 ,'name':['abdur','saasa','ron','deee','wwww']\n",
        "                 ,'age':[21,21,19,15,55], \n",
        "                 'income':[9399,7577,7277,6686,5555]})\n",
        "print(df)"
      ],
      "execution_count": null,
      "outputs": [
        {
          "output_type": "stream",
          "name": "stdout",
          "text": [
            "   id   name  age  income\n",
            "0   1  abdur   21    9399\n",
            "1   2  saasa   21    7577\n",
            "2   3    ron   19    7277\n",
            "3   4   deee   15    6686\n",
            "4   5   wwww   55    5555\n"
          ]
        }
      ]
    },
    {
      "cell_type": "code",
      "metadata": {
        "colab": {
          "base_uri": "https://localhost:8080/"
        },
        "id": "IVcqvusNffjs",
        "outputId": "41e620be-405c-400b-921f-e3e1f4aa46a5"
      },
      "source": [
        "df['age']=df.apply(lambda x: x['age']+1, axis=1)\n",
        "print(df)"
      ],
      "execution_count": null,
      "outputs": [
        {
          "output_type": "stream",
          "name": "stdout",
          "text": [
            "   id   name  age  income\n",
            "0   1  abdur   25    9399\n",
            "1   2  saasa   25    7577\n",
            "2   3    ron   23    7277\n",
            "3   4   deee   19    6686\n",
            "4   5   wwww   59    5555\n"
          ]
        }
      ]
    },
    {
      "cell_type": "code",
      "metadata": {
        "colab": {
          "base_uri": "https://localhost:8080/"
        },
        "id": "bSThkxlcffc9",
        "outputId": "34cb9930-120e-44a6-c5d9-4f69971ff80f"
      },
      "source": [
        "list(filter(lambda x:x>24, df['age']))"
      ],
      "execution_count": null,
      "outputs": [
        {
          "output_type": "execute_result",
          "data": {
            "text/plain": [
              "[25, 25, 59]"
            ]
          },
          "metadata": {},
          "execution_count": 26
        }
      ]
    },
    {
      "cell_type": "code",
      "metadata": {
        "colab": {
          "base_uri": "https://localhost:8080/"
        },
        "id": "46ytkHy5ftRu",
        "outputId": "acc6df4e-cb19-404d-a450-fa6d3b6be6d9"
      },
      "source": [
        "df['income']=list(map(lambda x: int(x+x*2.5), df['income']))\n",
        "print(df)"
      ],
      "execution_count": null,
      "outputs": [
        {
          "output_type": "stream",
          "name": "stdout",
          "text": [
            "   id   name  age  income\n",
            "0   1  abdur   25   49343\n",
            "1   2  saasa   25   39777\n",
            "2   3    ron   23   38202\n",
            "3   4   deee   19   35101\n",
            "4   5   wwww   59   29162\n"
          ]
        }
      ]
    },
    {
      "cell_type": "code",
      "metadata": {
        "colab": {
          "base_uri": "https://localhost:8080/"
        },
        "id": "xmi-e3V8ftMr",
        "outputId": "e6b25074-c38b-4511-db4f-a7eb2f3216f7"
      },
      "source": [
        "import functools\n",
        "\n",
        "functools.reduce(lambda a,b: a+b, df['income'])"
      ],
      "execution_count": null,
      "outputs": [
        {
          "output_type": "execute_result",
          "data": {
            "text/plain": [
              "191585"
            ]
          },
          "metadata": {},
          "execution_count": 29
        }
      ]
    },
    {
      "cell_type": "code",
      "metadata": {
        "colab": {
          "base_uri": "https://localhost:8080/"
        },
        "id": "Y7xXgf8xf2Tw",
        "outputId": "21ebb772-8158-4038-a4a7-67ebee917fd3"
      },
      "source": [
        "df['category']=df['age'].apply(lambda x: 'Senior' if x>=24 else 'Junior')\n",
        "print (df)"
      ],
      "execution_count": null,
      "outputs": [
        {
          "output_type": "stream",
          "name": "stdout",
          "text": [
            "   id   name  age  income category\n",
            "0   1  abdur   25   49343   Senior\n",
            "1   2  saasa   25   39777   Senior\n",
            "2   3    ron   23   38202   Junior\n",
            "3   4   deee   19   35101   Junior\n",
            "4   5   wwww   59   29162   Senior\n"
          ]
        }
      ]
    },
    {
      "cell_type": "markdown",
      "metadata": {
        "id": "KXORJSk3mkEm"
      },
      "source": [
        "**LAMBDA EXAMPLES**"
      ]
    },
    {
      "cell_type": "code",
      "metadata": {
        "colab": {
          "base_uri": "https://localhost:8080/"
        },
        "id": "xrWrFr8tmsm1",
        "outputId": "56f25aa3-dd90-4e22-b964-56c079e41d5d"
      },
      "source": [
        "# importing pandas library\n",
        "import pandas as pd\n",
        "\n",
        "# creating and initializing a list\n",
        "values= [['Rithik',445],['Elvan',350],['Diwan',475],\n",
        "\t\t['Saar',500],['Hika',250],['Vanshira',550]]\n",
        "\n",
        "# creating a pandas dataframe\n",
        "df = pd.DataFrame(values,columns=['Name','Total_Marks'])\n",
        "\n",
        "# Applying lambda function to find\n",
        "# percentage of 'Total_Marks' column\n",
        "# using df.assign()\n",
        "df = df.assign(Percentage = lambda x: (x['Total_Marks'] /500 * 100))\n",
        "\n",
        "# displaying the data frame\n",
        "print(df)\n"
      ],
      "execution_count": null,
      "outputs": [
        {
          "output_type": "stream",
          "name": "stdout",
          "text": [
            "       Name  Total_Marks  Percentage\n",
            "0    Rithik          445        89.0\n",
            "1     Elvan          350        70.0\n",
            "2     Diwan          475        95.0\n",
            "3      Saar          500       100.0\n",
            "4      Hika          250        50.0\n",
            "5  Vanshira          550       110.0\n"
          ]
        }
      ]
    },
    {
      "cell_type": "code",
      "metadata": {
        "colab": {
          "base_uri": "https://localhost:8080/"
        },
        "id": "IEJhbj6Smsje",
        "outputId": "6d68f7d6-703d-4652-b844-8b3d19f1ba1a"
      },
      "source": [
        "# importing pandas library\n",
        "import pandas as pd\n",
        "\n",
        "# creating and initializing a nested list\n",
        "values_list = [[20, 12.5, 100], [10, 14.5, 50], [25, 7.2, 85],\n",
        "\t\t\t[15, 5.84, 48], [20, 6.37, 70], [31, 6.44, 90],\n",
        "\t\t\t[51, 2.3, 111]]\n",
        "\n",
        "# creating a pandas dataframe\n",
        "df = pd.DataFrame(values_list, columns=['Field_1', 'Field_2', 'Field_3'])\n",
        "\n",
        "# Applying lambda function to find\n",
        "# the product of 3 columns using\n",
        "# df.assign()\n",
        "df = df.assign(Product=lambda x: (x['Field_1'] * x['Field_2'] * x['Field_3']))\n",
        "\n",
        "# printing dataframe\n",
        "print(df)\n"
      ],
      "execution_count": null,
      "outputs": [
        {
          "output_type": "stream",
          "name": "stdout",
          "text": [
            "   Field_1  Field_2  Field_3  Product\n",
            "0       20    12.50      100  25000.0\n",
            "1       10    14.50       50   7250.0\n",
            "2       25     7.20       85  15300.0\n",
            "3       15     5.84       48   4204.8\n",
            "4       20     6.37       70   8918.0\n",
            "5       31     6.44       90  17967.6\n",
            "6       51     2.30      111  13020.3\n"
          ]
        }
      ]
    },
    {
      "cell_type": "code",
      "metadata": {
        "colab": {
          "base_uri": "https://localhost:8080/"
        },
        "id": "1Dqepd7EmsgL",
        "outputId": "afd8c6ed-d38d-4e8b-8977-bc67737ce27e"
      },
      "source": [
        "# importing pandas and numpy libraries\n",
        "import pandas as pd\n",
        "import numpy as np\n",
        "\n",
        "# creating and initializing a nested list\n",
        "values_list = [[20, 12.5, 100], [10, 14.5, 50], [25, 7.2, 85],\n",
        "\t\t\t[15, 5.84, 48], [20, 6.37, 70], [31, 6.44, 90],\n",
        "\t\t\t[51, 2.3, 111]]\n",
        "\n",
        "# creating a pandas dataframe\n",
        "df = pd.DataFrame(values_list, columns=['Field_1', 'Field_2', 'Field_3'],\n",
        "\t\t\t\tindex=['a', 'b', 'c', 'd', 'e', 'f', 'g'])\n",
        "\n",
        "\n",
        "# Apply function numpy.square() to square\n",
        "# the values of one row only i.e. row\n",
        "# with index name 'd'\n",
        "df = df.apply(lambda x: np.square(x) if x.name == 'd' else x, axis=1)\n",
        "\n",
        "\n",
        "# printing dataframe\n",
        "print(df)\n"
      ],
      "execution_count": null,
      "outputs": [
        {
          "output_type": "stream",
          "name": "stdout",
          "text": [
            "   Field_1  Field_2  Field_3\n",
            "a     20.0  12.5000    100.0\n",
            "b     10.0  14.5000     50.0\n",
            "c     25.0   7.2000     85.0\n",
            "d    225.0  34.1056   2304.0\n",
            "e     20.0   6.3700     70.0\n",
            "f     31.0   6.4400     90.0\n",
            "g     51.0   2.3000    111.0\n"
          ]
        }
      ]
    },
    {
      "cell_type": "code",
      "metadata": {
        "colab": {
          "base_uri": "https://localhost:8080/",
          "height": 268
        },
        "id": "CBuHGfTZmsb_",
        "outputId": "dae81596-192b-4d4d-f58d-434b0b5d1a17"
      },
      "source": [
        "# importing pandas and numpylibraries\n",
        "import pandas as pd\n",
        "import numpy as np\n",
        "# creating and initializing a nested list\n",
        "values_list = [[20, 12.5, 100], [10, 14.5, 50], [25, 7.2, 85],\n",
        "\t\t\t[15, 5.84, 48], [20, 6.37, 70], [31, 6.44, 90],\n",
        "\t\t\t[51, 2.3, 111]]\n",
        "\n",
        "# creating a pandas dataframe\n",
        "df = pd.DataFrame(values_list, columns=['Field_1', 'Field_2', 'Field_3'],\n",
        "\t\t\t\tindex=['a', 'b', 'c', 'd', 'e', 'f', 'g'])\n",
        "\n",
        "\n",
        "# Apply function numpy.square() to square\n",
        "# the values of 3 rows only i.e. with row\n",
        "# index name 'a', 'e' and 'g' only\n",
        "df = df.apply(lambda x: np.square(x) if x.name in [\n",
        "\t\t\t'a', 'e', 'g'] else x, axis=1)\n",
        "\n",
        "# printing dataframe\n",
        "df\n"
      ],
      "execution_count": null,
      "outputs": [
        {
          "output_type": "execute_result",
          "data": {
            "text/html": [
              "<div>\n",
              "<style scoped>\n",
              "    .dataframe tbody tr th:only-of-type {\n",
              "        vertical-align: middle;\n",
              "    }\n",
              "\n",
              "    .dataframe tbody tr th {\n",
              "        vertical-align: top;\n",
              "    }\n",
              "\n",
              "    .dataframe thead th {\n",
              "        text-align: right;\n",
              "    }\n",
              "</style>\n",
              "<table border=\"1\" class=\"dataframe\">\n",
              "  <thead>\n",
              "    <tr style=\"text-align: right;\">\n",
              "      <th></th>\n",
              "      <th>Field_1</th>\n",
              "      <th>Field_2</th>\n",
              "      <th>Field_3</th>\n",
              "    </tr>\n",
              "  </thead>\n",
              "  <tbody>\n",
              "    <tr>\n",
              "      <th>a</th>\n",
              "      <td>400.0</td>\n",
              "      <td>156.2500</td>\n",
              "      <td>10000.0</td>\n",
              "    </tr>\n",
              "    <tr>\n",
              "      <th>b</th>\n",
              "      <td>10.0</td>\n",
              "      <td>14.5000</td>\n",
              "      <td>50.0</td>\n",
              "    </tr>\n",
              "    <tr>\n",
              "      <th>c</th>\n",
              "      <td>25.0</td>\n",
              "      <td>7.2000</td>\n",
              "      <td>85.0</td>\n",
              "    </tr>\n",
              "    <tr>\n",
              "      <th>d</th>\n",
              "      <td>15.0</td>\n",
              "      <td>5.8400</td>\n",
              "      <td>48.0</td>\n",
              "    </tr>\n",
              "    <tr>\n",
              "      <th>e</th>\n",
              "      <td>400.0</td>\n",
              "      <td>40.5769</td>\n",
              "      <td>4900.0</td>\n",
              "    </tr>\n",
              "    <tr>\n",
              "      <th>f</th>\n",
              "      <td>31.0</td>\n",
              "      <td>6.4400</td>\n",
              "      <td>90.0</td>\n",
              "    </tr>\n",
              "    <tr>\n",
              "      <th>g</th>\n",
              "      <td>2601.0</td>\n",
              "      <td>5.2900</td>\n",
              "      <td>12321.0</td>\n",
              "    </tr>\n",
              "  </tbody>\n",
              "</table>\n",
              "</div>"
            ],
            "text/plain": [
              "   Field_1   Field_2  Field_3\n",
              "a    400.0  156.2500  10000.0\n",
              "b     10.0   14.5000     50.0\n",
              "c     25.0    7.2000     85.0\n",
              "d     15.0    5.8400     48.0\n",
              "e    400.0   40.5769   4900.0\n",
              "f     31.0    6.4400     90.0\n",
              "g   2601.0    5.2900  12321.0"
            ]
          },
          "metadata": {},
          "execution_count": 5
        }
      ]
    },
    {
      "cell_type": "code",
      "metadata": {
        "colab": {
          "base_uri": "https://localhost:8080/",
          "height": 268
        },
        "id": "bRu8VMk4oANi",
        "outputId": "0d94d12a-1500-412f-f093-a8037e157227"
      },
      "source": [
        "# importing pandas and numpylibraries\n",
        "import pandas as pd\n",
        "import numpy as np\n",
        "\n",
        "# creating and initializing a nested list\n",
        "values_list = [[20, 12.5, 100], [10, 14.5, 50], [25, 7.2, 85],\n",
        "\t\t\t[15, 5.84, 48], [20, 6.37, 70], [31, 6.44, 90],\n",
        "\t\t\t[51, 2.3, 111]]\n",
        "# creating a pandas dataframe\n",
        "df = pd.DataFrame(values_list, columns=['Field_1', 'Field_2', 'Field_3'],\n",
        "\t\t\t\tindex=['a', 'b', 'c', 'd', 'e', 'f', 'g'])\n",
        "\n",
        "\n",
        "# Apply function numpy.square() to square\n",
        "# the values of 2 rows only i.e. with row\n",
        "# index name 'b' and 'f' only\n",
        "df = df.apply(lambda x: np.square(x) if x.name in ['b', 'f'] else x, axis=1)\n",
        "\n",
        "# Applying lambda function to find product of 3 columns\n",
        "# i.e 'Field_1', 'Field_2' and 'Field_3'\n",
        "df = df.assign(Product=lambda x: (x['Field_1'] * x['Field_2'] * x['Field_3']))\n",
        "\n",
        "\n",
        "# printing dataframe\n",
        "df\n"
      ],
      "execution_count": null,
      "outputs": [
        {
          "output_type": "execute_result",
          "data": {
            "text/html": [
              "<div>\n",
              "<style scoped>\n",
              "    .dataframe tbody tr th:only-of-type {\n",
              "        vertical-align: middle;\n",
              "    }\n",
              "\n",
              "    .dataframe tbody tr th {\n",
              "        vertical-align: top;\n",
              "    }\n",
              "\n",
              "    .dataframe thead th {\n",
              "        text-align: right;\n",
              "    }\n",
              "</style>\n",
              "<table border=\"1\" class=\"dataframe\">\n",
              "  <thead>\n",
              "    <tr style=\"text-align: right;\">\n",
              "      <th></th>\n",
              "      <th>Field_1</th>\n",
              "      <th>Field_2</th>\n",
              "      <th>Field_3</th>\n",
              "      <th>Product</th>\n",
              "    </tr>\n",
              "  </thead>\n",
              "  <tbody>\n",
              "    <tr>\n",
              "      <th>a</th>\n",
              "      <td>20.0</td>\n",
              "      <td>12.5000</td>\n",
              "      <td>100.0</td>\n",
              "      <td>2.500000e+04</td>\n",
              "    </tr>\n",
              "    <tr>\n",
              "      <th>b</th>\n",
              "      <td>100.0</td>\n",
              "      <td>210.2500</td>\n",
              "      <td>2500.0</td>\n",
              "      <td>5.256250e+07</td>\n",
              "    </tr>\n",
              "    <tr>\n",
              "      <th>c</th>\n",
              "      <td>25.0</td>\n",
              "      <td>7.2000</td>\n",
              "      <td>85.0</td>\n",
              "      <td>1.530000e+04</td>\n",
              "    </tr>\n",
              "    <tr>\n",
              "      <th>d</th>\n",
              "      <td>15.0</td>\n",
              "      <td>5.8400</td>\n",
              "      <td>48.0</td>\n",
              "      <td>4.204800e+03</td>\n",
              "    </tr>\n",
              "    <tr>\n",
              "      <th>e</th>\n",
              "      <td>20.0</td>\n",
              "      <td>6.3700</td>\n",
              "      <td>70.0</td>\n",
              "      <td>8.918000e+03</td>\n",
              "    </tr>\n",
              "    <tr>\n",
              "      <th>f</th>\n",
              "      <td>961.0</td>\n",
              "      <td>41.4736</td>\n",
              "      <td>8100.0</td>\n",
              "      <td>3.228346e+08</td>\n",
              "    </tr>\n",
              "    <tr>\n",
              "      <th>g</th>\n",
              "      <td>51.0</td>\n",
              "      <td>2.3000</td>\n",
              "      <td>111.0</td>\n",
              "      <td>1.302030e+04</td>\n",
              "    </tr>\n",
              "  </tbody>\n",
              "</table>\n",
              "</div>"
            ],
            "text/plain": [
              "   Field_1   Field_2  Field_3       Product\n",
              "a     20.0   12.5000    100.0  2.500000e+04\n",
              "b    100.0  210.2500   2500.0  5.256250e+07\n",
              "c     25.0    7.2000     85.0  1.530000e+04\n",
              "d     15.0    5.8400     48.0  4.204800e+03\n",
              "e     20.0    6.3700     70.0  8.918000e+03\n",
              "f    961.0   41.4736   8100.0  3.228346e+08\n",
              "g     51.0    2.3000    111.0  1.302030e+04"
            ]
          },
          "metadata": {},
          "execution_count": 6
        }
      ]
    },
    {
      "cell_type": "markdown",
      "metadata": {
        "id": "AEHCb-Z1oK9-"
      },
      "source": [
        "**PANDAS_SORTING**"
      ]
    },
    {
      "cell_type": "code",
      "metadata": {
        "colab": {
          "base_uri": "https://localhost:8080/"
        },
        "id": "7qcqz_fToSFu",
        "outputId": "25516367-e502-4c3e-daf9-1df6979f6f8f"
      },
      "source": [
        "import pandas as pd\n",
        "import numpy as np\n",
        "\n",
        "unsorted_df=pd.DataFrame(np.random.randn(10,2),index=[1,4,6,2,3,5,9,8,0,7],columns=['col2','col1'])\n",
        "print (unsorted_df)"
      ],
      "execution_count": null,
      "outputs": [
        {
          "output_type": "stream",
          "name": "stdout",
          "text": [
            "       col2      col1\n",
            "1  1.475323  1.515124\n",
            "4  0.928000 -0.890389\n",
            "6  0.861539  0.319267\n",
            "2  0.032820  0.102937\n",
            "3  0.200272 -2.455173\n",
            "5 -0.908546  0.378535\n",
            "9 -0.120699 -0.142425\n",
            "8 -0.793131  2.947494\n",
            "0 -0.926858  0.932498\n",
            "7 -0.045478 -0.372984\n"
          ]
        }
      ]
    },
    {
      "cell_type": "code",
      "metadata": {
        "colab": {
          "base_uri": "https://localhost:8080/"
        },
        "id": "V54eqKvUohE3",
        "outputId": "e133266b-3e7e-45b1-95e1-06f623c4f0fd"
      },
      "source": [
        "import pandas as pd\n",
        "import numpy as np\n",
        "\n",
        "unsorted_df = pd.DataFrame(np.random.randn(10,2),index=[1,4,6,2,3,5,9,8,0,7],columns = ['col2','col1'])\n",
        "\n",
        "sorted_df=unsorted_df.sort_index()\n",
        "print (sorted_df)"
      ],
      "execution_count": null,
      "outputs": [
        {
          "output_type": "stream",
          "name": "stdout",
          "text": [
            "       col2      col1\n",
            "0  0.033426 -0.786607\n",
            "1 -1.406953  0.178147\n",
            "2  1.245707 -0.699465\n",
            "3  0.040634  0.745540\n",
            "4  1.112906 -0.577724\n",
            "5 -1.609696  0.654708\n",
            "6 -0.126537 -0.407366\n",
            "7  0.319085  1.275550\n",
            "8 -1.312316 -0.979120\n",
            "9  0.858275  1.706489\n"
          ]
        }
      ]
    },
    {
      "cell_type": "code",
      "metadata": {
        "colab": {
          "base_uri": "https://localhost:8080/"
        },
        "id": "b1RAbX9yohBI",
        "outputId": "4df7e5da-7d08-4272-894d-e483e37356fa"
      },
      "source": [
        "import pandas as pd\n",
        "import numpy as np\n",
        "\n",
        "unsorted_df = pd.DataFrame(np.random.randn(10,2),index=[1,4,6,2,3,5,9,8,0,7],columns = ['col2','col1'])\n",
        "\n",
        "sorted_df = unsorted_df.sort_index(ascending=False)\n",
        "print (sorted_df)"
      ],
      "execution_count": null,
      "outputs": [
        {
          "output_type": "stream",
          "name": "stdout",
          "text": [
            "       col2      col1\n",
            "9  0.555886 -0.161187\n",
            "8  0.486407 -1.678633\n",
            "7 -0.497830  1.255970\n",
            "6 -1.189766  1.210623\n",
            "5  1.607086 -1.078651\n",
            "4  1.010483  0.047678\n",
            "3 -0.159070  0.735316\n",
            "2  0.363609 -0.909152\n",
            "1 -0.337846 -0.511553\n",
            "0  0.714685  0.541845\n"
          ]
        }
      ]
    },
    {
      "cell_type": "code",
      "metadata": {
        "colab": {
          "base_uri": "https://localhost:8080/"
        },
        "id": "bl0TXLEgog9d",
        "outputId": "bbd8362b-c081-4667-d8a3-185b90f863d7"
      },
      "source": [
        "import pandas as pd\n",
        "import numpy as np\n",
        " \n",
        "unsorted_df = pd.DataFrame(np.random.randn(10,2),index=[1,4,6,2,3,5,9,8,0,7],columns = ['col2','col1'])\n",
        " \n",
        "sorted_df=unsorted_df.sort_index(axis=1)\n",
        "\n",
        "print (sorted_df)"
      ],
      "execution_count": null,
      "outputs": [
        {
          "output_type": "stream",
          "name": "stdout",
          "text": [
            "       col1      col2\n",
            "1 -1.163782 -0.439095\n",
            "4  0.428311 -0.267540\n",
            "6  0.220374  0.233701\n",
            "2  1.049741 -0.022563\n",
            "3 -0.147099  0.338279\n",
            "5  0.010600  0.264768\n",
            "9 -2.016998 -0.163427\n",
            "8 -0.395844 -0.426526\n",
            "0 -2.037159  1.531248\n",
            "7 -1.804819 -0.398446\n"
          ]
        }
      ]
    },
    {
      "cell_type": "code",
      "metadata": {
        "colab": {
          "base_uri": "https://localhost:8080/"
        },
        "id": "xXVIKs3dogux",
        "outputId": "a92149c2-7a7b-438a-8194-d2dfa437a033"
      },
      "source": [
        "import pandas as pd\n",
        "import numpy as np\n",
        "\n",
        "unsorted_df = pd.DataFrame({'col1':[2,1,1,1],'col2':[1,3,2,4]})\n",
        "sorted_df = unsorted_df.sort_values(by='col1')\n",
        "\n",
        "print (sorted_df)"
      ],
      "execution_count": null,
      "outputs": [
        {
          "output_type": "stream",
          "name": "stdout",
          "text": [
            "   col1  col2\n",
            "1     1     3\n",
            "2     1     2\n",
            "3     1     4\n",
            "0     2     1\n"
          ]
        }
      ]
    },
    {
      "cell_type": "code",
      "metadata": {
        "colab": {
          "base_uri": "https://localhost:8080/"
        },
        "id": "NQiZAJcIotlP",
        "outputId": "da00fcac-483f-4686-f66e-7f2e51ab8a7c"
      },
      "source": [
        "import pandas as pd\n",
        "import numpy as np\n",
        "\n",
        "unsorted_df = pd.DataFrame({'col1':[2,1,1,1],'col2':[1,3,2,4]})\n",
        "sorted_df = unsorted_df.sort_values(by=['col1','col2'])\n",
        "\n",
        "print (sorted_df)"
      ],
      "execution_count": null,
      "outputs": [
        {
          "output_type": "stream",
          "name": "stdout",
          "text": [
            "   col1  col2\n",
            "2     1     2\n",
            "1     1     3\n",
            "3     1     4\n",
            "0     2     1\n"
          ]
        }
      ]
    },
    {
      "cell_type": "code",
      "metadata": {
        "colab": {
          "base_uri": "https://localhost:8080/"
        },
        "id": "m0H3wJhtowc3",
        "outputId": "9a1df4b0-f470-4061-c17b-72e983a631e0"
      },
      "source": [
        "import pandas as pd\n",
        "import numpy as np\n",
        "\n",
        "unsorted_df = pd.DataFrame({'col1':[2,1,1,1],'col2':[1,3,2,4]})\n",
        "sorted_df = unsorted_df.sort_values(by='col1' ,kind='mergesort')\n",
        "\n",
        "print (sorted_df)"
      ],
      "execution_count": null,
      "outputs": [
        {
          "output_type": "stream",
          "name": "stdout",
          "text": [
            "   col1  col2\n",
            "1     1     3\n",
            "2     1     2\n",
            "3     1     4\n",
            "0     2     1\n"
          ]
        }
      ]
    },
    {
      "cell_type": "markdown",
      "metadata": {
        "id": "433-82sfpP4E"
      },
      "source": [
        "**PANDAS- index and select data**"
      ]
    },
    {
      "cell_type": "code",
      "metadata": {
        "colab": {
          "base_uri": "https://localhost:8080/"
        },
        "id": "-ZnlUBu4o8BR",
        "outputId": "76a18403-0e40-4a83-b030-dcfb1584f1f4"
      },
      "source": [
        "#import the pandas library and aliasing as pd\n",
        "import pandas as pd\n",
        "import numpy as np\n",
        "\n",
        "df = pd.DataFrame(np.random.randn(8, 4),\n",
        "\n",
        "index = ['a','b','c','d','e','f','g','h'], columns = ['A', 'B', 'C', 'D'])\n",
        "\n",
        "#select all rows for a specific column\n",
        "print (df.loc[:,'D'])"
      ],
      "execution_count": null,
      "outputs": [
        {
          "output_type": "stream",
          "name": "stdout",
          "text": [
            "a    0.697943\n",
            "b   -0.373503\n",
            "c    0.513520\n",
            "d   -0.773757\n",
            "e    0.019578\n",
            "f    0.890074\n",
            "g   -1.946579\n",
            "h   -0.428705\n",
            "Name: D, dtype: float64\n"
          ]
        }
      ]
    },
    {
      "cell_type": "code",
      "metadata": {
        "colab": {
          "base_uri": "https://localhost:8080/"
        },
        "id": "G0oH6_euo79f",
        "outputId": "e5395164-b6c8-48a5-939f-42b32de413d7"
      },
      "source": [
        "import pandas as pd\n",
        "import numpy as np\n",
        "\n",
        "df = pd.DataFrame(np.random.randn(8, 4),\n",
        "index = ['a','b','c','d','e','f','g','h'], columns = ['A', 'B', 'C', 'D'])\n",
        "\n",
        "# Select all rows for multiple columns, say list[]\n",
        "print (df.loc[:,['C','B']])"
      ],
      "execution_count": null,
      "outputs": [
        {
          "output_type": "stream",
          "name": "stdout",
          "text": [
            "          C         B\n",
            "a  0.724631 -0.515416\n",
            "b -0.643348  0.146173\n",
            "c  1.145792  0.861160\n",
            "d -0.868366  0.312994\n",
            "e  0.827180  0.321775\n",
            "f  0.177488  1.277707\n",
            "g -0.167661  0.623020\n",
            "h -0.847835 -1.715395\n"
          ]
        }
      ]
    },
    {
      "cell_type": "code",
      "metadata": {
        "colab": {
          "base_uri": "https://localhost:8080/"
        },
        "id": "JLIfi7NZo72I",
        "outputId": "40bfa86b-3363-4c21-8984-71736956bbe3"
      },
      "source": [
        "import pandas as pd\n",
        "import numpy as np\n",
        "\n",
        "df = pd.DataFrame(np.random.randn(8, 4),\n",
        "index = ['a','b','c','d','e','f','g','h'], columns = ['A', 'B', 'C', 'D'])\n",
        "\n",
        "# Select few rows for multiple columns, say list[]\n",
        "print (df.loc[['a','b','f','h','e'],['B','C']])"
      ],
      "execution_count": null,
      "outputs": [
        {
          "output_type": "stream",
          "name": "stdout",
          "text": [
            "          B         C\n",
            "a  0.382298 -0.988291\n",
            "b -0.998121 -0.305430\n",
            "f  0.183564 -1.462050\n",
            "h  0.309248  2.146091\n",
            "e -0.016116 -0.535535\n"
          ]
        }
      ]
    },
    {
      "cell_type": "code",
      "metadata": {
        "colab": {
          "base_uri": "https://localhost:8080/"
        },
        "id": "RkSJNUdko7rI",
        "outputId": "125226a6-d150-44c1-b27c-0647f556bf0d"
      },
      "source": [
        "import pandas as pd\n",
        "import numpy as np\n",
        "\n",
        "df = pd.DataFrame(np.random.randn(8, 4),\n",
        "index = ['a','b','c','d','e','f','g','h'], columns = ['A', 'B', 'C', 'D'])\n",
        "\n",
        "# Select range of rows for all columns\n",
        "print (df.loc['a':'g'])"
      ],
      "execution_count": null,
      "outputs": [
        {
          "output_type": "stream",
          "name": "stdout",
          "text": [
            "          A         B         C         D\n",
            "a -1.887201  0.158669 -1.156417 -0.460049\n",
            "b -0.422792  0.263661 -0.488596 -0.164249\n",
            "c -0.213155  0.678372  1.131346  0.115525\n",
            "d -0.524997 -1.534806 -1.581005  0.812572\n",
            "e -0.345582 -0.062953  0.567289  0.379774\n",
            "f -0.241993  0.197136  0.686777  0.094582\n",
            "g -1.130233 -0.004646  1.248401 -0.784158\n"
          ]
        }
      ]
    },
    {
      "cell_type": "code",
      "metadata": {
        "colab": {
          "base_uri": "https://localhost:8080/"
        },
        "id": "bz2XnyQDptXC",
        "outputId": "22b9bbba-f9ae-427a-c77f-d6a6c5e1045a"
      },
      "source": [
        "import pandas as pd\n",
        "import numpy as np\n",
        "\n",
        "df = pd.DataFrame(np.random.randn(8, 4),\n",
        "index = ['a','b','c','d','e','f','g','h'], columns = ['A', 'B', 'C', 'D'])\n",
        "print(df)\n",
        "# for getting values with a boolean array\n",
        "print (df.loc['d']>0)"
      ],
      "execution_count": null,
      "outputs": [
        {
          "output_type": "stream",
          "name": "stdout",
          "text": [
            "          A         B         C         D\n",
            "a  0.291865 -1.923399 -0.040066 -0.046368\n",
            "b -0.030904  0.831766 -0.238912  0.380782\n",
            "c  0.041047 -0.788378  0.241379  1.309683\n",
            "d  0.504841 -0.884914  0.940341  0.850814\n",
            "e -0.602652  0.469753 -0.190176 -1.735451\n",
            "f -1.165359  0.970489  0.299817  0.338160\n",
            "g -1.127218 -0.732385 -0.532328  0.146648\n",
            "h  1.105450  1.659080 -1.578541  0.339862\n",
            "A     True\n",
            "B    False\n",
            "C     True\n",
            "D     True\n",
            "Name: d, dtype: bool\n"
          ]
        }
      ]
    },
    {
      "cell_type": "code",
      "metadata": {
        "colab": {
          "base_uri": "https://localhost:8080/"
        },
        "id": "dl6rbP6cptS-",
        "outputId": "9eea7307-1929-4b23-d659-0d2d4ab83288"
      },
      "source": [
        "# import the pandas library and aliasing as pd\n",
        "import pandas as pd\n",
        "import numpy as np\n",
        "\n",
        "df = pd.DataFrame(np.random.randn(8, 4), columns = ['A', 'B', 'C', 'D'])\n",
        "print(df)\n",
        "# select all rows for a specific column\n",
        "print (df.iloc[:3])"
      ],
      "execution_count": null,
      "outputs": [
        {
          "output_type": "stream",
          "name": "stdout",
          "text": [
            "          A         B         C         D\n",
            "0  1.254199  0.641456  0.275735  0.506655\n",
            "1 -0.647268  2.333926 -0.490174  0.873463\n",
            "2 -1.444538  0.914111 -1.378089 -1.137164\n",
            "3  2.803958 -0.053259 -0.364359 -0.394858\n",
            "4  0.620426  0.267108 -0.309142 -0.317252\n",
            "5 -0.757590 -1.802134  0.833229 -0.828981\n",
            "6  1.017627 -0.323184  1.370789  0.577937\n",
            "7 -0.342081  0.277358  0.123014 -0.297686\n",
            "          A         B         C         D\n",
            "0  1.254199  0.641456  0.275735  0.506655\n",
            "1 -0.647268  2.333926 -0.490174  0.873463\n",
            "2 -1.444538  0.914111 -1.378089 -1.137164\n"
          ]
        }
      ]
    },
    {
      "cell_type": "code",
      "metadata": {
        "colab": {
          "base_uri": "https://localhost:8080/"
        },
        "id": "_mVdnH3EptND",
        "outputId": "ee95e2c6-5f62-4234-800f-ee99c0d6f6ec"
      },
      "source": [
        "import pandas as pd\n",
        "import numpy as np\n",
        "\n",
        "df = pd.DataFrame(np.random.randn(8, 4), columns = ['A', 'B', 'C', 'D'])\n",
        "print(df)\n",
        "# Integer slicing\n",
        "print (df.iloc[:4])\n",
        "print (df.iloc[2:5, 3:4])"
      ],
      "execution_count": null,
      "outputs": [
        {
          "output_type": "stream",
          "name": "stdout",
          "text": [
            "          A         B         C         D\n",
            "0  1.403674  0.449061 -0.301739  0.227414\n",
            "1  1.472632  1.040231 -0.448023  0.696658\n",
            "2 -1.939100 -1.726560 -0.337268  0.492873\n",
            "3  1.434104  1.260541  0.355964 -1.298532\n",
            "4  0.320198  0.266551 -1.285822  0.428049\n",
            "5  1.471038  0.657189  0.072622  0.081159\n",
            "6 -0.669211 -0.540240 -0.310847  1.308109\n",
            "7  0.859560 -0.716136  0.083804 -0.103602\n",
            "          A         B         C         D\n",
            "0  1.403674  0.449061 -0.301739  0.227414\n",
            "1  1.472632  1.040231 -0.448023  0.696658\n",
            "2 -1.939100 -1.726560 -0.337268  0.492873\n",
            "3  1.434104  1.260541  0.355964 -1.298532\n",
            "          D\n",
            "2  0.492873\n",
            "3 -1.298532\n",
            "4  0.428049\n"
          ]
        }
      ]
    },
    {
      "cell_type": "code",
      "metadata": {
        "id": "bFWF9FazqNOq",
        "colab": {
          "base_uri": "https://localhost:8080/"
        },
        "outputId": "3a6219d0-de60-4674-b227-a4d3b3852e4b"
      },
      "source": [
        "import pandas as pd\n",
        "import numpy as np\n",
        "\n",
        "df = pd.DataFrame(np.random.randn(8, 4), columns = ['A', 'B', 'C', 'D'])\n",
        "print(df)\n",
        "# Slicing through list of values\n",
        "print (df.iloc[[1, 3, 5], [1, 3]])\n",
        "print (df.iloc[2:3, :])\n",
        "print (df.iloc[:,2:3])"
      ],
      "execution_count": null,
      "outputs": [
        {
          "output_type": "stream",
          "name": "stdout",
          "text": [
            "          A         B         C         D\n",
            "0 -0.236649  1.097860  0.614414  2.799391\n",
            "1 -1.172360 -1.086486 -0.501668 -0.601499\n",
            "2 -0.979890 -1.020325  0.501906 -0.167729\n",
            "3  0.392045  0.072869  0.324376 -0.185128\n",
            "4 -0.511401 -0.303893 -1.291744  0.170275\n",
            "5  1.176751 -0.808000 -0.893494  0.600198\n",
            "6 -0.146730 -0.041592  0.919902  0.654886\n",
            "7  0.037877  0.884324 -0.033228 -0.183188\n",
            "          B         D\n",
            "1 -1.086486 -0.601499\n",
            "3  0.072869 -0.185128\n",
            "5 -0.808000  0.600198\n",
            "         A         B         C         D\n",
            "2 -0.97989 -1.020325  0.501906 -0.167729\n",
            "          C\n",
            "0  0.614414\n",
            "1 -0.501668\n",
            "2  0.501906\n",
            "3  0.324376\n",
            "4 -1.291744\n",
            "5 -0.893494\n",
            "6  0.919902\n",
            "7 -0.033228\n"
          ]
        }
      ]
    }
  ]
}