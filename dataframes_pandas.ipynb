{
  "nbformat": 4,
  "nbformat_minor": 0,
  "metadata": {
    "colab": {
      "name": "dataframes/pandas.ipynb",
      "provenance": [],
      "collapsed_sections": []
    },
    "kernelspec": {
      "name": "python3",
      "display_name": "Python 3"
    },
    "language_info": {
      "name": "python"
    }
  },
  "cells": [
    {
      "cell_type": "code",
      "metadata": {
        "colab": {
          "base_uri": "https://localhost:8080/"
        },
        "id": "xW80UeEBAKzn",
        "outputId": "444268da-cefa-42ed-8f20-af789d3c019f"
      },
      "source": [
        "import pandas as pd\n",
        "data1 = [10,20,30,40,50]\n",
        "df = pd.DataFrame(data1)\n",
        "print (df)"
      ],
      "execution_count": null,
      "outputs": [
        {
          "output_type": "stream",
          "name": "stdout",
          "text": [
            "    0\n",
            "0  10\n",
            "1  20\n",
            "2  30\n",
            "3  40\n",
            "4  50\n"
          ]
        }
      ]
    },
    {
      "cell_type": "code",
      "metadata": {
        "colab": {
          "base_uri": "https://localhost:8080/"
        },
        "id": "czhkisbyCysa",
        "outputId": "04dc0be2-9492-4bb7-c3eb-17bc0204d809"
      },
      "source": [
        "import pandas as pd\n",
        "data2 = [['Abdur',20],['Hash',12],['Clain',13]]\n",
        "df = pd.DataFrame(data2,columns=['Name','Age'])\n",
        "print (df)"
      ],
      "execution_count": null,
      "outputs": [
        {
          "output_type": "stream",
          "name": "stdout",
          "text": [
            "    Name  Age\n",
            "0  Abdur   20\n",
            "1   Hash   12\n",
            "2  Clain   13\n"
          ]
        }
      ]
    },
    {
      "cell_type": "code",
      "metadata": {
        "colab": {
          "base_uri": "https://localhost:8080/"
        },
        "id": "r9f17VrBCypZ",
        "outputId": "fba81627-3c16-4892-caf8-7d3883c8033a"
      },
      "source": [
        "import pandas as pd\n",
        "data = {'Name':['Traore', 'Jackshere', 'Stephen'],'Age':[28,34,29]}\n",
        "df = pd.DataFrame(data)\n",
        "print (df)"
      ],
      "execution_count": null,
      "outputs": [
        {
          "output_type": "stream",
          "name": "stdout",
          "text": [
            "        Name  Age\n",
            "0     Traore   28\n",
            "1  Jackshere   34\n",
            "2    Stephen   29\n"
          ]
        }
      ]
    },
    {
      "cell_type": "code",
      "metadata": {
        "colab": {
          "base_uri": "https://localhost:8080/"
        },
        "id": "j57Tm19uCylv",
        "outputId": "c9ad253f-3343-411f-917b-a60e7c743cea"
      },
      "source": [
        "import pandas as pd\n",
        "data = {'Name':['Traore', 'Jackshere', 'Stephen', 'Ricky'],'Age':[18,24,19,62]}\n",
        "df = pd.DataFrame(data, index=['rank1','rank2','rank3','rank4'])\n",
        "print (df)"
      ],
      "execution_count": null,
      "outputs": [
        {
          "output_type": "stream",
          "name": "stdout",
          "text": [
            "            Name  Age\n",
            "rank1     Traore   18\n",
            "rank2  Jackshere   24\n",
            "rank3    Stephen   19\n",
            "rank4      Ricky   62\n"
          ]
        }
      ]
    },
    {
      "cell_type": "code",
      "metadata": {
        "colab": {
          "base_uri": "https://localhost:8080/"
        },
        "id": "fl8DRT1NCyhC",
        "outputId": "c0388d2d-abed-42f0-b0cd-977c91579a25"
      },
      "source": [
        "import pandas as pd\n",
        "data = [{'list1': 1, 'list2': 2},{'list1': 5, 'list2': 10, 'list3': 20}]\n",
        "df = pd.DataFrame(data)\n",
        "print (df)"
      ],
      "execution_count": null,
      "outputs": [
        {
          "output_type": "stream",
          "name": "stdout",
          "text": [
            "   list1  list2  list3\n",
            "0      1      2    NaN\n",
            "1      5     10   20.0\n"
          ]
        }
      ]
    },
    {
      "cell_type": "code",
      "metadata": {
        "colab": {
          "base_uri": "https://localhost:8080/"
        },
        "id": "mXHs4WLwCydb",
        "outputId": "94052698-3447-424b-ec6f-e52efe694857"
      },
      "source": [
        "import pandas as pd\n",
        "data = [{'a': 1, 'b': 2},{'a': 5, 'b': 10, 'c': 20}]\n",
        "\n",
        "#With two column indices, values same as dictionary keys\n",
        "df1 = pd.DataFrame(data, index=['first', 'second'], columns=['a', 'b'])\n",
        "\n",
        "#With two column indices with one index with other name\n",
        "df2 = pd.DataFrame(data, index=['first', 'second'], columns=['a', 'b1'])\n",
        "print (df1)\n",
        "print (df2)"
      ],
      "execution_count": null,
      "outputs": [
        {
          "output_type": "stream",
          "name": "stdout",
          "text": [
            "        a   b\n",
            "first   1   2\n",
            "second  5  10\n",
            "        a  b1\n",
            "first   1 NaN\n",
            "second  5 NaN\n"
          ]
        }
      ]
    },
    {
      "cell_type": "code",
      "metadata": {
        "colab": {
          "base_uri": "https://localhost:8080/"
        },
        "id": "SRd9GyxbCyZn",
        "outputId": "52686bf6-7b39-46c9-f684-cbb28504d951"
      },
      "source": [
        "import pandas as pd\n",
        "\n",
        "d = {'one' : pd.Series([1, 2, 3], index=['a', 'b', 'c']),\n",
        "   'two' : pd.Series([1, 2, 3, 4], index=['a', 'b', 'c', 'd'])}\n",
        "\n",
        "df = pd.DataFrame(d)\n",
        "print (df)"
      ],
      "execution_count": null,
      "outputs": [
        {
          "output_type": "stream",
          "name": "stdout",
          "text": [
            "   one  two\n",
            "a  1.0    1\n",
            "b  2.0    2\n",
            "c  3.0    3\n",
            "d  NaN    4\n"
          ]
        }
      ]
    },
    {
      "cell_type": "code",
      "metadata": {
        "colab": {
          "base_uri": "https://localhost:8080/"
        },
        "id": "K1uxwbhDCyV5",
        "outputId": "73f46280-2333-44fa-91f0-5c27987d81aa"
      },
      "source": [
        "#column selection\n",
        "\n",
        "import pandas as pd\n",
        "\n",
        "d = {'one' : pd.Series([1, 2, 3], index=['a', 'b', 'c']),\n",
        "   'two' : pd.Series([11, 22, 33, 44], index=['a', 'b', 'c', 'd'])}\n",
        "\n",
        "df = pd.DataFrame(d)\n",
        "print (df['two'])"
      ],
      "execution_count": null,
      "outputs": [
        {
          "output_type": "stream",
          "name": "stdout",
          "text": [
            "a    11\n",
            "b    22\n",
            "c    33\n",
            "d    44\n",
            "Name: two, dtype: int64\n"
          ]
        }
      ]
    },
    {
      "cell_type": "code",
      "metadata": {
        "colab": {
          "base_uri": "https://localhost:8080/"
        },
        "id": "pbpUwzmMCySa",
        "outputId": "0d9b1e6b-a2fe-40f3-b737-d3b46c01246f"
      },
      "source": [
        "#column selection\n",
        "#presence of NAN will convert int to float\n",
        "\n",
        "import pandas as pd\n",
        "\n",
        "data = {'one' : pd.Series([11, 22, 33,44], index=['a', 'b', 'c','d']),\n",
        "   'two' : pd.Series([1, 2, 3, 4], index=['a', 'b', 'c', 'd'])}\n",
        "\n",
        "\n",
        "df = pd.DataFrame(data)\n",
        "print (df['one'])"
      ],
      "execution_count": null,
      "outputs": [
        {
          "output_type": "stream",
          "name": "stdout",
          "text": [
            "a    11\n",
            "b    22\n",
            "c    33\n",
            "d    44\n",
            "Name: one, dtype: int64\n"
          ]
        }
      ]
    },
    {
      "cell_type": "code",
      "metadata": {
        "colab": {
          "base_uri": "https://localhost:8080/"
        },
        "id": "MOnulprGCyOJ",
        "outputId": "4f0bdaf8-9546-433e-d8fd-a5b18de7d4b5"
      },
      "source": [
        "# Adding a new column to an existing DataFrame object with column label by passing new series\n",
        "\n",
        "import pandas as pd\n",
        "\n",
        "d = {'one' : pd.Series([1, 2, 3], index=['a', 'b', 'c']),\n",
        "   'two' : pd.Series([1, 2, 3, 4], index=['a', 'b', 'c', 'd'])}\n",
        "\n",
        "df = pd.DataFrame(d)\n",
        "\n",
        "print (df)\n",
        "\n",
        "print (\"Adding a new column by passing as Series:\")\n",
        "df['three']=pd.Series([10,20,30],index=['a','b','c'])\n",
        "print (df)\n",
        "\n",
        "print (\"Adding a new column using the existing columns in DataFrame:\")\n",
        "df['four']=df['two']+df['three']\n",
        "\n",
        "print (df)"
      ],
      "execution_count": null,
      "outputs": [
        {
          "output_type": "stream",
          "name": "stdout",
          "text": [
            "   one  two\n",
            "a  1.0    1\n",
            "b  2.0    2\n",
            "c  3.0    3\n",
            "d  NaN    4\n",
            "Adding a new column by passing as Series:\n",
            "   one  two  three\n",
            "a  1.0    1   10.0\n",
            "b  2.0    2   20.0\n",
            "c  3.0    3   30.0\n",
            "d  NaN    4    NaN\n",
            "Adding a new column using the existing columns in DataFrame:\n",
            "   one  two  three  four\n",
            "a  1.0    1   10.0  11.0\n",
            "b  2.0    2   20.0  22.0\n",
            "c  3.0    3   30.0  33.0\n",
            "d  NaN    4    NaN   NaN\n"
          ]
        }
      ]
    },
    {
      "cell_type": "code",
      "metadata": {
        "colab": {
          "base_uri": "https://localhost:8080/"
        },
        "id": "b2ZW2gncCyI6",
        "outputId": "c2444361-7031-4ad0-e465-5491819cae48"
      },
      "source": [
        "# Using the previous DataFrame, we will delete a column\n",
        "# using del function\n",
        "import pandas as pd\n",
        "\n",
        "d = {'one' : pd.Series([1, 2, 3], index=['a', 'b', 'c']), \n",
        "   'two' : pd.Series([1, 2, 3, 4], index=['a', 'b', 'c', 'd']), \n",
        "   'three' : pd.Series([10,20,30], index=['a','b','c'])}\n",
        "\n",
        "df = pd.DataFrame(d)\n",
        "print (\"Our dataframe is:\")\n",
        "print (df)\n",
        "\n",
        "# using del function\n",
        "print (\"Deleting the first column using DEL function:\")\n",
        "del df['one']\n",
        "print (df)\n",
        "# using pop function\n",
        "print (\"Deleting another column using POP function:\")\n",
        "df.pop('three')\n",
        "print (df)"
      ],
      "execution_count": null,
      "outputs": [
        {
          "output_type": "stream",
          "name": "stdout",
          "text": [
            "Our dataframe is:\n",
            "   one  two  three\n",
            "a  1.0    1   10.0\n",
            "b  2.0    2   20.0\n",
            "c  3.0    3   30.0\n",
            "d  NaN    4    NaN\n",
            "Deleting the first column using DEL function:\n",
            "   two  three\n",
            "a    1   10.0\n",
            "b    2   20.0\n",
            "c    3   30.0\n",
            "d    4    NaN\n",
            "Deleting another column using POP function:\n",
            "   two\n",
            "a    1\n",
            "b    2\n",
            "c    3\n",
            "d    4\n"
          ]
        }
      ]
    },
    {
      "cell_type": "code",
      "metadata": {
        "id": "ksL4TjjAMk4n"
      },
      "source": [
        "#Selection by Label\n",
        "\n",
        "import pandas as pd\n",
        "\n",
        "d = {'one' : pd.Series([1, 2, 3], index=['a', 'b', 'c']), \n",
        "   'two' : pd.Series([1, 2, 3, 4], index=['a', 'b', 'c', 'd'])}\n",
        "\n",
        "df = pd.DataFrame(d)\n",
        "print (df.loc['b'])"
      ],
      "execution_count": null,
      "outputs": []
    },
    {
      "cell_type": "code",
      "metadata": {
        "colab": {
          "base_uri": "https://localhost:8080/"
        },
        "id": "N_I-OU2eMk1k",
        "outputId": "56a3847b-8b41-4591-b6a9-febce06cfa88"
      },
      "source": [
        "#Selection by integer location\n",
        "\n",
        "import pandas as pd\n",
        "\n",
        "d = {'one' : pd.Series([1, 2, 3,4], index=['a', 'b', 'c','d']),\n",
        "   'two' : pd.Series([1, 2, 3, 4,5], index=['a', 'b', 'c', 'd','e'])}\n",
        "\n",
        "df = pd.DataFrame(d)\n",
        "print (df.iloc[4])"
      ],
      "execution_count": null,
      "outputs": [
        {
          "output_type": "stream",
          "name": "stdout",
          "text": [
            "one    NaN\n",
            "two    5.0\n",
            "Name: e, dtype: float64\n"
          ]
        }
      ]
    },
    {
      "cell_type": "code",
      "metadata": {
        "colab": {
          "base_uri": "https://localhost:8080/"
        },
        "id": "gJSpuB_DMk0P",
        "outputId": "7e3c20dc-86ef-4801-cc15-db10b5dfe9c4"
      },
      "source": [
        "#Slice Rows using : operator\n",
        "\n",
        "import pandas as pd\n",
        "\n",
        "d = {'one' : pd.Series([1, 2, 3], index=['a', 'b', 'c']), \n",
        "   'two' : pd.Series([1, 2, 3, 4], index=['a', 'b', 'c', 'd'])}\n",
        "\n",
        "df = pd.DataFrame(d)\n",
        "print (df[1:3])"
      ],
      "execution_count": null,
      "outputs": [
        {
          "output_type": "stream",
          "name": "stdout",
          "text": [
            "   one  two\n",
            "b  2.0    2\n",
            "c  3.0    3\n"
          ]
        }
      ]
    },
    {
      "cell_type": "code",
      "metadata": {
        "colab": {
          "base_uri": "https://localhost:8080/"
        },
        "id": "Wc6_-k8xMkx6",
        "outputId": "078a508c-b393-4ef7-a233-dc592ab8d438"
      },
      "source": [
        "#Addition of Rows using append\n",
        "\n",
        "import pandas as pd\n",
        "\n",
        "df = pd.DataFrame([[1, 2, 9], [3, 4,10]], columns = ['a','b','c'])\n",
        "df2 = pd.DataFrame([[5, 6,11], [7, 8,12]], columns = ['a','b','c'])\n",
        "print (df)\n",
        "print(\"after appending\")\n",
        "df = df.append(df2)\n",
        "print (df)"
      ],
      "execution_count": null,
      "outputs": [
        {
          "output_type": "stream",
          "name": "stdout",
          "text": [
            "   a  b   c\n",
            "0  1  2   9\n",
            "1  3  4  10\n",
            "after appending\n",
            "   a  b   c\n",
            "0  1  2   9\n",
            "1  3  4  10\n",
            "0  5  6  11\n",
            "1  7  8  12\n"
          ]
        }
      ]
    },
    {
      "cell_type": "code",
      "metadata": {
        "colab": {
          "base_uri": "https://localhost:8080/"
        },
        "id": "4N7kUsP_Mkvc",
        "outputId": "0f972450-7485-4022-db11-d6bc1bbfdbe3"
      },
      "source": [
        "#Deletion of Rows\n",
        "\n",
        "import pandas as pd\n",
        "\n",
        "df = pd.DataFrame([[1, 2], [3, 4]], columns = ['a','b'])\n",
        "df2 = pd.DataFrame([[5, 6], [7, 8]], columns = ['a','b'])\n",
        "\n",
        "df = df.append(df2)\n",
        "\n",
        "# Drop rows with label 0\n",
        "df = df.drop(1)\n",
        "\n",
        "print (df)"
      ],
      "execution_count": null,
      "outputs": [
        {
          "output_type": "stream",
          "name": "stdout",
          "text": [
            "   a  b\n",
            "0  1  2\n",
            "0  5  6\n"
          ]
        }
      ]
    },
    {
      "cell_type": "markdown",
      "metadata": {
        "id": "kkzi6X2qGnjP"
      },
      "source": [
        "***PANDAS-1 series***"
      ]
    },
    {
      "cell_type": "code",
      "metadata": {
        "colab": {
          "base_uri": "https://localhost:8080/"
        },
        "id": "2sf_DEi-E9UO",
        "outputId": "af6b950f-55ac-43fe-eb7a-abac6dd99b7d"
      },
      "source": [
        "import pandas as pd\n",
        "import numpy as np\n",
        "\n",
        "#Create a series with 100 random numbers\n",
        "A = pd.Series(np.random.randn(7))\n",
        "print (A)"
      ],
      "execution_count": 1,
      "outputs": [
        {
          "output_type": "stream",
          "name": "stdout",
          "text": [
            "0   -1.339310\n",
            "1   -1.984010\n",
            "2    0.912013\n",
            "3   -0.310632\n",
            "4   -0.606072\n",
            "5   -1.608138\n",
            "6    1.646629\n",
            "dtype: float64\n"
          ]
        }
      ]
    },
    {
      "cell_type": "code",
      "metadata": {
        "colab": {
          "base_uri": "https://localhost:8080/"
        },
        "id": "X7SnXtmyItO3",
        "outputId": "62fafbc4-df9f-4880-e6f2-3d0062a9d134"
      },
      "source": [
        "import pandas as pd\n",
        "import numpy as np\n",
        "\n",
        "#Create a series with 100 random numbers\n",
        "a = pd.Series(np.random.randn(2))\n",
        "print (\"The axes are:\")\n",
        "print (a.axes)"
      ],
      "execution_count": 2,
      "outputs": [
        {
          "output_type": "stream",
          "name": "stdout",
          "text": [
            "The axes are:\n",
            "[RangeIndex(start=0, stop=2, step=1)]\n"
          ]
        }
      ]
    },
    {
      "cell_type": "code",
      "metadata": {
        "colab": {
          "base_uri": "https://localhost:8080/"
        },
        "id": "Wxip7FVwItK7",
        "outputId": "65ef83d4-ea9b-4bf9-b63d-414775cc206a"
      },
      "source": [
        "import pandas as pd\n",
        "import numpy as np\n",
        "\n",
        "#Create a series with 100 random numbers\n",
        "a = pd.Series(np.random.randn(6))\n",
        "print (\"Is the Object empty?\")\n",
        "print (a.empty)"
      ],
      "execution_count": 3,
      "outputs": [
        {
          "output_type": "stream",
          "name": "stdout",
          "text": [
            "Is the Object empty?\n",
            "False\n"
          ]
        }
      ]
    },
    {
      "cell_type": "code",
      "metadata": {
        "colab": {
          "base_uri": "https://localhost:8080/"
        },
        "id": "Kd84U4BhItH1",
        "outputId": "fa6f76f5-bdb3-4321-91f0-d3ea5ef4abd7"
      },
      "source": [
        "import pandas as pd\n",
        "import numpy as np\n",
        "\n",
        "#Create a series with 4 random numbers\n",
        "s = pd.Series(np.random.randn(6))\n",
        "print (s)\n",
        "\n",
        "print (\"The dimensions of the object:\")\n",
        "print (s.ndim)"
      ],
      "execution_count": 4,
      "outputs": [
        {
          "output_type": "stream",
          "name": "stdout",
          "text": [
            "0    0.294788\n",
            "1    0.390514\n",
            "2    1.391344\n",
            "3    0.039210\n",
            "4   -0.072556\n",
            "5   -0.294231\n",
            "dtype: float64\n",
            "The dimensions of the object:\n",
            "1\n"
          ]
        }
      ]
    },
    {
      "cell_type": "code",
      "metadata": {
        "colab": {
          "base_uri": "https://localhost:8080/"
        },
        "id": "6URSRlqOItDI",
        "outputId": "7364d0a6-a3a6-426e-b89b-f8cb439d4012"
      },
      "source": [
        "import pandas as pd\n",
        "import numpy as np\n",
        "\n",
        "#Create a series with 4 random numbers\n",
        "sa = pd.Series(np.random.randn(3))\n",
        "print (sa)\n",
        "print (\"The size of the object:\")\n",
        "print (sa.size)"
      ],
      "execution_count": 5,
      "outputs": [
        {
          "output_type": "stream",
          "name": "stdout",
          "text": [
            "0    0.040960\n",
            "1    1.646188\n",
            "2   -0.123721\n",
            "dtype: float64\n",
            "The size of the object:\n",
            "3\n"
          ]
        }
      ]
    },
    {
      "cell_type": "code",
      "metadata": {
        "colab": {
          "base_uri": "https://localhost:8080/"
        },
        "id": "KaxQ03IYItAe",
        "outputId": "a7849ac0-c8f8-47e8-c587-39f00d4c7f97"
      },
      "source": [
        "import pandas as pd\n",
        "import numpy as np\n",
        "\n",
        "#Create a series with 4 random numbers\n",
        "sa = pd.Series(np.random.randn(3))\n",
        "print (sa)\n",
        "\n",
        "print (\"The actual data series is:\")\n",
        "print (sa.values)"
      ],
      "execution_count": 6,
      "outputs": [
        {
          "output_type": "stream",
          "name": "stdout",
          "text": [
            "0    1.494972\n",
            "1    0.180457\n",
            "2   -1.611327\n",
            "dtype: float64\n",
            "The actual data series is:\n",
            "[ 1.49497182  0.18045741 -1.61132717]\n"
          ]
        }
      ]
    },
    {
      "cell_type": "code",
      "metadata": {
        "colab": {
          "base_uri": "https://localhost:8080/"
        },
        "id": "M4gxs82jIs9r",
        "outputId": "25b54357-6698-47a5-97ed-e7daec517406"
      },
      "source": [
        "import pandas as pd\n",
        "import numpy as np\n",
        "\n",
        "#Create a series with 4 random numbers\n",
        "a = pd.Series(np.random.randn(6))\n",
        "print (\"The original series is:\")\n",
        "print (a)\n",
        "\n",
        "print (\"The first row of the data series:\")\n",
        "print (a.head(1))"
      ],
      "execution_count": 8,
      "outputs": [
        {
          "output_type": "stream",
          "name": "stdout",
          "text": [
            "The original series is:\n",
            "0   -0.488310\n",
            "1    0.958782\n",
            "2   -0.832462\n",
            "3   -1.954572\n",
            "4   -0.335693\n",
            "5    1.024940\n",
            "dtype: float64\n",
            "The first row of the data series:\n",
            "0   -0.48831\n",
            "dtype: float64\n"
          ]
        }
      ]
    },
    {
      "cell_type": "code",
      "metadata": {
        "colab": {
          "base_uri": "https://localhost:8080/"
        },
        "id": "BSX9bQ7oIs54",
        "outputId": "132460ed-716b-40de-afe6-5550d44e23bf"
      },
      "source": [
        "import pandas as pd\n",
        "import numpy as np\n",
        "\n",
        "#Create a series with 4 random numbers\n",
        "s = pd.Series(np.random.randn(5))\n",
        "print (\"The original series is:\")\n",
        "print (s)\n",
        "\n",
        "print (\"The last three rows of the data series:\")\n",
        "print (s.tail(3))"
      ],
      "execution_count": 9,
      "outputs": [
        {
          "output_type": "stream",
          "name": "stdout",
          "text": [
            "The original series is:\n",
            "0   -1.957820\n",
            "1    1.222092\n",
            "2    0.833385\n",
            "3   -1.608054\n",
            "4   -0.009546\n",
            "dtype: float64\n",
            "The last three rows of the data series:\n",
            "2    0.833385\n",
            "3   -1.608054\n",
            "4   -0.009546\n",
            "dtype: float64\n"
          ]
        }
      ]
    },
    {
      "cell_type": "markdown",
      "metadata": {
        "id": "OgQZUO5RNufw"
      },
      "source": [
        "***PANDAS-1 dictionaries***"
      ]
    },
    {
      "cell_type": "code",
      "metadata": {
        "colab": {
          "base_uri": "https://localhost:8080/"
        },
        "id": "e6bvqVpkIs3N",
        "outputId": "51941be2-1f98-4bd2-ac56-11d4524a9fd6"
      },
      "source": [
        "import pandas as pd\n",
        "import numpy as np\n",
        "\n",
        "#Create a Dictionary of series\n",
        "dic = {'Name':pd.Series(['Abdur','Saasa','Ayus','Stephen','Smith rao','Jackshere']),\n",
        "   'Age':pd.Series([25,25,23,30,29,23]),\n",
        "   'Rating':pd.Series([3.24,3.98,2.56,3.20,4.6,3.8])}\n",
        "\n",
        "#Create a DataFrame\n",
        "df = pd.DataFrame(dic)\n",
        "print (\"Our data series is:\")\n",
        "print (df)"
      ],
      "execution_count": 10,
      "outputs": [
        {
          "output_type": "stream",
          "name": "stdout",
          "text": [
            "Our data series is:\n",
            "        Name  Age  Rating\n",
            "0      Abdur   25    3.24\n",
            "1      Saasa   25    3.98\n",
            "2       Ayus   23    2.56\n",
            "3    Stephen   30    3.20\n",
            "4  Smith rao   29    4.60\n",
            "5  Jackshere   23    3.80\n"
          ]
        }
      ]
    },
    {
      "cell_type": "code",
      "metadata": {
        "colab": {
          "base_uri": "https://localhost:8080/"
        },
        "id": "zCml4SQBIsye",
        "outputId": "124d978e-29fc-4ccf-fdd8-ba9edd2e030e"
      },
      "source": [
        "import pandas as pd\n",
        "import numpy as np\n",
        " \n",
        "# Create a Dictionary of series\n",
        "dic = {'Name':pd.Series(['Abdur','Saasa','Ayus','Stephen','Smith rao','Jackshere']),\n",
        "   'Age':pd.Series([25,25,23,30,29,23]),\n",
        "   'Rating':pd.Series([3.24,3.98,2.56,3.20,4.6,3.8])}\n",
        "\n",
        "# Create a DataFrame\n",
        "df = pd.DataFrame(dic)\n",
        "print (\"The transpose of the data series is:\")\n",
        "print (df.T)"
      ],
      "execution_count": 12,
      "outputs": [
        {
          "output_type": "stream",
          "name": "stdout",
          "text": [
            "The transpose of the data series is:\n",
            "            0      1     2        3          4          5\n",
            "Name    Abdur  Saasa  Ayus  Stephen  Smith rao  Jackshere\n",
            "Age        25     25    23       30         29         23\n",
            "Rating   3.24   3.98  2.56      3.2        4.6        3.8\n"
          ]
        }
      ]
    },
    {
      "cell_type": "code",
      "metadata": {
        "colab": {
          "base_uri": "https://localhost:8080/"
        },
        "id": "N4RejKCtIsuC",
        "outputId": "0740a705-4280-452f-cdd5-903933dfa5f8"
      },
      "source": [
        "import pandas as pd\n",
        "import numpy as np\n",
        "\n",
        "#Create a Dictionary of series\n",
        "dic = {'Name':pd.Series(['Abdur','Saasa','Ayus','Stephen','Smith rao','Jackshere']),\n",
        "   'Age':pd.Series([25,25,23,30,29,23]),\n",
        "   'Rating':pd.Series([3.24,3.98,2.56,3.20,4.6,3.8])}\n",
        "\n",
        "#Create a DataFrame\n",
        "df = pd.DataFrame(dic)\n",
        "print (\"Row axis labels and column axis labels are:\")\n",
        "print (df.axes)"
      ],
      "execution_count": 13,
      "outputs": [
        {
          "output_type": "stream",
          "name": "stdout",
          "text": [
            "Row axis labels and column axis labels are:\n",
            "[RangeIndex(start=0, stop=6, step=1), Index(['Name', 'Age', 'Rating'], dtype='object')]\n"
          ]
        }
      ]
    },
    {
      "cell_type": "code",
      "metadata": {
        "colab": {
          "base_uri": "https://localhost:8080/"
        },
        "id": "e8Grr6_0IslS",
        "outputId": "cae38cbb-45c7-404e-9057-d986cf404f7c"
      },
      "source": [
        "import pandas as pd\n",
        "import numpy as np\n",
        "\n",
        "#Create a Dictionary of series\n",
        "dic = {'Name':pd.Series(['Abdur','Saasa','Ayus','Stephen','Smith rao','Jackshere']),\n",
        "   'Age':pd.Series([25,25,23,30,29,23]),\n",
        "   'Rating':pd.Series([3.24,3.98,2.56,3.20,4.6,3.8])}\n",
        "\n",
        "#Create a DataFrame\n",
        "df = pd.DataFrame(dic)\n",
        "print (\"The data types of each column are:\")\n",
        "print (df.dtypes)"
      ],
      "execution_count": 14,
      "outputs": [
        {
          "output_type": "stream",
          "name": "stdout",
          "text": [
            "The data types of each column are:\n",
            "Name       object\n",
            "Age         int64\n",
            "Rating    float64\n",
            "dtype: object\n"
          ]
        }
      ]
    },
    {
      "cell_type": "code",
      "metadata": {
        "colab": {
          "base_uri": "https://localhost:8080/"
        },
        "id": "ibuFvqhbOq7n",
        "outputId": "cfc28bce-ae28-4a89-a01e-b23d9d3e7746"
      },
      "source": [
        "import pandas as pd\n",
        "import numpy as np\n",
        " \n",
        "#Create a Dictionary of series\n",
        "dic = {'Name':pd.Series(['Abdur','Saasa','Ayus','Stephen','Smith rao','Jackshere']),\n",
        "   'Age':pd.Series([25,25,23,30,29,23]),\n",
        "   'Rating':pd.Series([3.24,3.98,2.56,3.20,4.6,3.8])}\n",
        " \n",
        "#Create a DataFrame\n",
        "df = pd.DataFrame(dic)\n",
        "print (\"Is the object empty?\")\n",
        "print (df.empty)"
      ],
      "execution_count": 15,
      "outputs": [
        {
          "output_type": "stream",
          "name": "stdout",
          "text": [
            "Is the object empty?\n",
            "False\n"
          ]
        }
      ]
    },
    {
      "cell_type": "code",
      "metadata": {
        "colab": {
          "base_uri": "https://localhost:8080/"
        },
        "id": "dGxH3kB4Oq6E",
        "outputId": "8da22d0c-270b-4b21-f09a-830b5ee1c569"
      },
      "source": [
        "#ndim-Returns the number of dimensions of the object. By definition, DataFrame is a 2D object.\n",
        "\n",
        "import pandas as pd\n",
        "import numpy as np\n",
        "\n",
        "#Create a Dictionary of series\n",
        "dic = {'Name':pd.Series(['Abdur','Saasa','Ayus','Stephen','Smith rao','Jackshere']),\n",
        "   'Age':pd.Series([25,25,23,30,29,23]),\n",
        "   'Rating':pd.Series([3.24,3.98,2.56,3.20,4.6,3.8])}\n",
        "\n",
        "#Create a DataFrame\n",
        "df = pd.DataFrame(dic)\n",
        "print (\"Our object is:\")\n",
        "print (df)\n",
        "print (\"The dimension of the object is:\")\n",
        "print (df.ndim)"
      ],
      "execution_count": 16,
      "outputs": [
        {
          "output_type": "stream",
          "name": "stdout",
          "text": [
            "Our object is:\n",
            "        Name  Age  Rating\n",
            "0      Abdur   25    3.24\n",
            "1      Saasa   25    3.98\n",
            "2       Ayus   23    2.56\n",
            "3    Stephen   30    3.20\n",
            "4  Smith rao   29    4.60\n",
            "5  Jackshere   23    3.80\n",
            "The dimension of the object is:\n",
            "2\n"
          ]
        }
      ]
    },
    {
      "cell_type": "code",
      "metadata": {
        "colab": {
          "base_uri": "https://localhost:8080/"
        },
        "id": "i3LIPIEPOq2I",
        "outputId": "8bcd9f84-6678-4f1b-d89d-9d1b8c288ac2"
      },
      "source": [
        "import pandas as pd\n",
        "import numpy as np\n",
        " \n",
        "#Create a Dictionary of series\n",
        "dic = {'Name':pd.Series(['Abdur','Saasa','Ayus','Stephen','Smith rao','Jackshere']),\n",
        "   'Age':pd.Series([25,25,23,30,29,23]),\n",
        "   'Rating':pd.Series([3.24,3.98,2.56,3.20,4.6,3.8])}\n",
        " \n",
        "#Create a DataFrame\n",
        "df = pd.DataFrame(dic)\n",
        "print (\"Our object is:\")\n",
        "print (df)\n",
        "print (\"The shape of the object is:\")\n",
        "print (df.shape)\n"
      ],
      "execution_count": 17,
      "outputs": [
        {
          "output_type": "stream",
          "name": "stdout",
          "text": [
            "Our object is:\n",
            "        Name  Age  Rating\n",
            "0      Abdur   25    3.24\n",
            "1      Saasa   25    3.98\n",
            "2       Ayus   23    2.56\n",
            "3    Stephen   30    3.20\n",
            "4  Smith rao   29    4.60\n",
            "5  Jackshere   23    3.80\n",
            "The shape of the object is:\n",
            "(6, 3)\n"
          ]
        }
      ]
    },
    {
      "cell_type": "code",
      "metadata": {
        "colab": {
          "base_uri": "https://localhost:8080/"
        },
        "id": "kxixPz2ROqzG",
        "outputId": "2a4bf2dc-29df-4b19-cc8a-1a18718b845a"
      },
      "source": [
        "import pandas as pd\n",
        "import numpy as np\n",
        " \n",
        "#Create a Dictionary of series\n",
        "dic = {'Name':pd.Series(['Abdur','Saasa','Ayus','Stephen','Smith rao','Jackshere']),\n",
        "   'Age':pd.Series([25,25,23,30,29,23]),\n",
        "   'Rating':pd.Series([3.24,3.98,2.56,3.20,4.6,3.8])}\n",
        " \n",
        "#Create a DataFrame\n",
        "df = pd.DataFrame(dic)\n",
        "print (\"Our object is:\")\n",
        "print (df)\n",
        "print (\"The total number of elements in our object is:\")\n",
        "print (df.size)"
      ],
      "execution_count": 18,
      "outputs": [
        {
          "output_type": "stream",
          "name": "stdout",
          "text": [
            "Our object is:\n",
            "        Name  Age  Rating\n",
            "0      Abdur   25    3.24\n",
            "1      Saasa   25    3.98\n",
            "2       Ayus   23    2.56\n",
            "3    Stephen   30    3.20\n",
            "4  Smith rao   29    4.60\n",
            "5  Jackshere   23    3.80\n",
            "The total number of elements in our object is:\n",
            "18\n"
          ]
        }
      ]
    },
    {
      "cell_type": "code",
      "metadata": {
        "colab": {
          "base_uri": "https://localhost:8080/"
        },
        "id": "1LVYJlQsOquj",
        "outputId": "21aba0c2-277a-4dff-e52e-a13aa9d9cf1b"
      },
      "source": [
        "import pandas as pd\n",
        "import numpy as np\n",
        " \n",
        "#Create a Dictionary of series\n",
        "dic = {'Name':pd.Series(['Abdur','Saasa','Ayus','Stephen','Smith rao','Jackshere']),\n",
        "   'Age':pd.Series([25,25,23,30,29,23]),\n",
        "   'Rating':pd.Series([3.24,3.98,2.56,3.20,4.6,3.8])}\n",
        " \n",
        "#Create a DataFrame\n",
        "df = pd.DataFrame(dic)\n",
        "print (\"Our object is:\")\n",
        "print (df)\n",
        "print (\"The actual data in our data frame is:\")\n",
        "print (df.values)"
      ],
      "execution_count": 19,
      "outputs": [
        {
          "output_type": "stream",
          "name": "stdout",
          "text": [
            "Our object is:\n",
            "        Name  Age  Rating\n",
            "0      Abdur   25    3.24\n",
            "1      Saasa   25    3.98\n",
            "2       Ayus   23    2.56\n",
            "3    Stephen   30    3.20\n",
            "4  Smith rao   29    4.60\n",
            "5  Jackshere   23    3.80\n",
            "The actual data in our data frame is:\n",
            "[['Abdur' 25 3.24]\n",
            " ['Saasa' 25 3.98]\n",
            " ['Ayus' 23 2.56]\n",
            " ['Stephen' 30 3.2]\n",
            " ['Smith rao' 29 4.6]\n",
            " ['Jackshere' 23 3.8]]\n"
          ]
        }
      ]
    },
    {
      "cell_type": "code",
      "metadata": {
        "colab": {
          "base_uri": "https://localhost:8080/"
        },
        "id": "tnmRckmzOqqN",
        "outputId": "813ac7a4-128a-4a1d-9caa-a7c2a2a140e1"
      },
      "source": [
        "import pandas as pd\n",
        "import numpy as np\n",
        " \n",
        "#Create a Dictionary of series\n",
        "dic = {'Name':pd.Series(['Abdur','Saasa','Ayus','Stephen','Smith rao','Jackshere']),\n",
        "   'Age':pd.Series([25,25,23,30,29,23]),\n",
        "   'Rating':pd.Series([3.24,3.98,2.56,3.20,4.6,3.8])}\n",
        "\n",
        "#Create a DataFrame\n",
        "df = pd.DataFrame(dic)\n",
        "print (\"Our data frame is:\")\n",
        "print (df)\n",
        "print (\"The first two rows of the data frame is:\")\n",
        "print (df.head(3))\n",
        "print(\"default head values\")\n",
        "print (df.head())"
      ],
      "execution_count": 21,
      "outputs": [
        {
          "output_type": "stream",
          "name": "stdout",
          "text": [
            "Our data frame is:\n",
            "        Name  Age  Rating\n",
            "0      Abdur   25    3.24\n",
            "1      Saasa   25    3.98\n",
            "2       Ayus   23    2.56\n",
            "3    Stephen   30    3.20\n",
            "4  Smith rao   29    4.60\n",
            "5  Jackshere   23    3.80\n",
            "The first two rows of the data frame is:\n",
            "    Name  Age  Rating\n",
            "0  Abdur   25    3.24\n",
            "1  Saasa   25    3.98\n",
            "2   Ayus   23    2.56\n",
            "default head values\n",
            "        Name  Age  Rating\n",
            "0      Abdur   25    3.24\n",
            "1      Saasa   25    3.98\n",
            "2       Ayus   23    2.56\n",
            "3    Stephen   30    3.20\n",
            "4  Smith rao   29    4.60\n"
          ]
        }
      ]
    },
    {
      "cell_type": "code",
      "metadata": {
        "colab": {
          "base_uri": "https://localhost:8080/"
        },
        "id": "mg30AUkwOqbl",
        "outputId": "03d07c7a-f742-46e3-b37d-0bedea0811f1"
      },
      "source": [
        "import pandas as pd\n",
        "import numpy as np\n",
        "\n",
        "#Create a Dictionary of series\n",
        "dic = {'Name':pd.Series(['Abdur','Saasa','Ayus','Stephen','Smith rao','Jackshere']),\n",
        "   'Age':pd.Series([25,25,23,30,29,23]),\n",
        "   'Rating':pd.Series([3.24,3.98,2.56,3.20,4.6,3.8])}\n",
        "\n",
        " \n",
        "#Create a DataFrame\n",
        "df = pd.DataFrame(dic)\n",
        "print (\"Our data frame is:\")\n",
        "print (df)\n",
        "print (\"The last two rows of the data frame is:\")\n",
        "print (df.tail(2))"
      ],
      "execution_count": 22,
      "outputs": [
        {
          "output_type": "stream",
          "name": "stdout",
          "text": [
            "Our data frame is:\n",
            "        Name  Age  Rating\n",
            "0      Abdur   25    3.24\n",
            "1      Saasa   25    3.98\n",
            "2       Ayus   23    2.56\n",
            "3    Stephen   30    3.20\n",
            "4  Smith rao   29    4.60\n",
            "5  Jackshere   23    3.80\n",
            "The last two rows of the data frame is:\n",
            "        Name  Age  Rating\n",
            "4  Smith rao   29     4.6\n",
            "5  Jackshere   23     3.8\n"
          ]
        }
      ]
    }
  ]
}